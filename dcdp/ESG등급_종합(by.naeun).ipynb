{
 "cells": [
  {
   "cell_type": "markdown",
   "id": "5966d020",
   "metadata": {},
   "source": [
    "# 1. ESG 기준원- 기업별 ESG 등급 가져오기 => 평가년도: 2022\n",
    "- [ESG기준원](http://www.cgs.or.kr/business/esg_tab04.jsp?pg={}&pp=10&skey=&svalue=&sfyear=2021&styear=2021&sgtype=&sgrade=#ui_contents)\n",
    "- 참고: [DACON : 이제 ESG에 투자하세요! : 기업 ESG 등급을 이용한 국내 ETF ESG 등급 현황](https://dacon.io/competitions/official/235914/codeshare/5669)"
   ]
  },
  {
   "cell_type": "markdown",
   "id": "28d87f0a",
   "metadata": {},
   "source": [
    "## 1.1 필요한 라이브러리 가져오기"
   ]
  },
  {
   "cell_type": "code",
   "execution_count": 71,
   "id": "74ae890a",
   "metadata": {
    "ExecuteTime": {
     "end_time": "2023-01-28T08:09:29.210256Z",
     "start_time": "2023-01-28T08:09:29.200254Z"
    }
   },
   "outputs": [],
   "source": [
    "import pandas as pd\n",
    "import numpy as np\n",
    "import requests\n",
    "from bs4 import BeautifulSoup as bs\n",
    "import time\n",
    "import urllib.request\n",
    "# from urllib.request import urlopen   "
   ]
  },
  {
   "cell_type": "markdown",
   "id": "a48cbd03",
   "metadata": {},
   "source": [
    "- 1페이지\n",
    "http://www.cgs.or.kr/business/esg_tab04.jsp?pg=1&pp=10&skey=&svalue=&sfyear=2021&styear=2021&sgtype=&sgrade=#ui_contents\n",
    "\n",
    "- 2페이지 \n",
    "http://www.cgs.or.kr/business/esg_tab04.jsp?pg=2&pp=10&skey=&svalue=&sfyear=2021&styear=2021&sgtype=&sgrade=#ui_contents"
   ]
  },
  {
   "cell_type": "code",
   "execution_count": 72,
   "id": "7f0fd44b",
   "metadata": {
    "ExecuteTime": {
     "end_time": "2023-01-28T08:09:29.225802Z",
     "start_time": "2023-01-28T08:09:29.211257Z"
    }
   },
   "outputs": [],
   "source": [
    "#각 테마 페이지별 테마명&주식종목명 가져오기\n",
    "def page_list(page):\n",
    "        ESGLIST_URL = \"http://www.cgs.or.kr/business/esg_tab04.jsp?pg={}&pp=10&skey=&svalue=&sfyear=2021&styear=2021&sgtype=&sgrade=#ui_contents\".format(page) #주소설정\n",
    "        response = urllib.request.urlopen(ESGLIST_URL)\n",
    "        ESGLIST_HTML = response.read()\n",
    "\n",
    "        soup = bs(ESGLIST_HTML)\n",
    "        STK_ESG_GRADE=pd.DataFrame()\n",
    "        # 100 페이지까지는 한 페이지에 총 10개 기업 존재\n",
    "        if page <= 100:\n",
    "            num_list = [0,1,2,3,4,5,6,7,8,9] \n",
    "        # 101 페이지에는 총 5개 기업이 존재\n",
    "        else:\n",
    "            num_list = [0,1,2,3,4]\n",
    "        for i in num_list:\n",
    "            find_stk = soup.find_all('td')[i*9:i*9+9]\n",
    "            stk_col_list=[]\n",
    "            for i in [0,1,2,3,4,5,6,7,8]:\n",
    "                stk_col_list.append(find_stk[i].text)\n",
    "                clean_stk_col_list=pd.DataFrame(stk_col_list).transpose()\n",
    "            STK_ESG_GRADE = pd.concat([STK_ESG_GRADE,clean_stk_col_list])\n",
    "        return STK_ESG_GRADE"
   ]
  },
  {
   "cell_type": "code",
   "execution_count": 73,
   "id": "e74626d3",
   "metadata": {
    "ExecuteTime": {
     "end_time": "2023-01-28T08:09:37.278822Z",
     "start_time": "2023-01-28T08:09:29.227308Z"
    }
   },
   "outputs": [
    {
     "name": "stderr",
     "output_type": "stream",
     "text": [
      "100%|████████████████████████████████████████████████████████████████████████████████| 101/101 [00:08<00:00, 12.57it/s]\n"
     ]
    },
    {
     "data": {
      "text/html": [
       "<div>\n",
       "<style scoped>\n",
       "    .dataframe tbody tr th:only-of-type {\n",
       "        vertical-align: middle;\n",
       "    }\n",
       "\n",
       "    .dataframe tbody tr th {\n",
       "        vertical-align: top;\n",
       "    }\n",
       "\n",
       "    .dataframe thead th {\n",
       "        text-align: right;\n",
       "    }\n",
       "</style>\n",
       "<table border=\"1\" class=\"dataframe\">\n",
       "  <thead>\n",
       "    <tr style=\"text-align: right;\">\n",
       "      <th></th>\n",
       "      <th>기업명</th>\n",
       "      <th>기업코드</th>\n",
       "      <th>ESG등급</th>\n",
       "      <th>환경</th>\n",
       "      <th>사회</th>\n",
       "      <th>지배구조</th>\n",
       "      <th>평가년도</th>\n",
       "    </tr>\n",
       "  </thead>\n",
       "  <tbody>\n",
       "    <tr>\n",
       "      <th>0</th>\n",
       "      <td>AJ네트웍스</td>\n",
       "      <td>095570</td>\n",
       "      <td>B+</td>\n",
       "      <td>C</td>\n",
       "      <td>B+</td>\n",
       "      <td>B+</td>\n",
       "      <td>2022</td>\n",
       "    </tr>\n",
       "    <tr>\n",
       "      <th>1</th>\n",
       "      <td>AK홀딩스</td>\n",
       "      <td>006840</td>\n",
       "      <td>B+</td>\n",
       "      <td>B</td>\n",
       "      <td>A</td>\n",
       "      <td>B</td>\n",
       "      <td>2022</td>\n",
       "    </tr>\n",
       "    <tr>\n",
       "      <th>2</th>\n",
       "      <td>AP시스템</td>\n",
       "      <td>265520</td>\n",
       "      <td>D</td>\n",
       "      <td>D</td>\n",
       "      <td>C</td>\n",
       "      <td>C</td>\n",
       "      <td>2022</td>\n",
       "    </tr>\n",
       "    <tr>\n",
       "      <th>3</th>\n",
       "      <td>BGF</td>\n",
       "      <td>027410</td>\n",
       "      <td>B+</td>\n",
       "      <td>A</td>\n",
       "      <td>A+</td>\n",
       "      <td>B</td>\n",
       "      <td>2022</td>\n",
       "    </tr>\n",
       "    <tr>\n",
       "      <th>4</th>\n",
       "      <td>BGF리테일</td>\n",
       "      <td>282330</td>\n",
       "      <td>A</td>\n",
       "      <td>A</td>\n",
       "      <td>A+</td>\n",
       "      <td>A</td>\n",
       "      <td>2022</td>\n",
       "    </tr>\n",
       "  </tbody>\n",
       "</table>\n",
       "</div>"
      ],
      "text/plain": [
       "      기업명    기업코드 ESG등급 환경  사회 지배구조  평가년도\n",
       "0  AJ네트웍스  095570    B+  C  B+   B+  2022\n",
       "1   AK홀딩스  006840    B+  B   A    B  2022\n",
       "2   AP시스템  265520     D  D   C    C  2022\n",
       "3     BGF  027410    B+  A  A+    B  2022\n",
       "4  BGF리테일  282330     A  A  A+    A  2022"
      ]
     },
     "execution_count": 73,
     "metadata": {},
     "output_type": "execute_result"
    }
   ],
   "source": [
    "from tqdm import tqdm \n",
    "import time\n",
    "\n",
    "df_esg = pd.DataFrame()\n",
    "for i in tqdm(list(range(1,102))):\n",
    "    df_temp = page_list(i)\n",
    "    df_esg = pd.concat([df_esg,df_temp])\n",
    "    df_esg\n",
    "\n",
    "df_esg.columns = ['NO', '기업명','기업코드','ESG등급','환경','사회','지배구조','평가년도','비고']\n",
    "df_esg.reset_index(inplace=True)\n",
    "df_esg.drop(columns=['index','NO','비고'], inplace=True)\n",
    "df_esg.head()"
   ]
  },
  {
   "cell_type": "code",
   "execution_count": 74,
   "id": "d2779020",
   "metadata": {
    "ExecuteTime": {
     "end_time": "2023-01-28T08:09:37.294163Z",
     "start_time": "2023-01-28T08:09:37.281939Z"
    }
   },
   "outputs": [
    {
     "data": {
      "text/plain": [
       "(1005, 7)"
      ]
     },
     "execution_count": 74,
     "metadata": {},
     "output_type": "execute_result"
    }
   ],
   "source": [
    "df_esg.shape # (1005, 7)"
   ]
  },
  {
   "cell_type": "code",
   "execution_count": 75,
   "id": "05138e70",
   "metadata": {
    "ExecuteTime": {
     "end_time": "2023-01-28T08:09:37.309294Z",
     "start_time": "2023-01-28T08:09:37.295163Z"
    }
   },
   "outputs": [
    {
     "data": {
      "text/plain": [
       "기업명      0\n",
       "기업코드     0\n",
       "ESG등급    0\n",
       "환경       0\n",
       "사회       0\n",
       "지배구조     0\n",
       "평가년도     0\n",
       "dtype: int64"
      ]
     },
     "execution_count": 75,
     "metadata": {},
     "output_type": "execute_result"
    }
   ],
   "source": [
    "df_esg.isnull().sum()"
   ]
  },
  {
   "cell_type": "code",
   "execution_count": 76,
   "id": "45bf00cf",
   "metadata": {
    "ExecuteTime": {
     "end_time": "2023-01-28T08:09:37.324987Z",
     "start_time": "2023-01-28T08:09:37.310544Z"
    }
   },
   "outputs": [
    {
     "data": {
      "text/plain": [
       "1005"
      ]
     },
     "execution_count": 76,
     "metadata": {},
     "output_type": "execute_result"
    }
   ],
   "source": [
    "df_esg[\"기업명\"].nunique()"
   ]
  },
  {
   "cell_type": "code",
   "execution_count": 77,
   "id": "0c21cc6b",
   "metadata": {
    "ExecuteTime": {
     "end_time": "2023-01-28T08:09:37.340246Z",
     "start_time": "2023-01-28T08:09:37.326494Z"
    }
   },
   "outputs": [
    {
     "data": {
      "text/plain": [
       "Index(['기업명', '기업코드', 'ESG등급', '환경', '사회', '지배구조', '평가년도'], dtype='object')"
      ]
     },
     "execution_count": 77,
     "metadata": {},
     "output_type": "execute_result"
    }
   ],
   "source": [
    "df_esg.columns"
   ]
  },
  {
   "cell_type": "code",
   "execution_count": 78,
   "id": "28bf7ad2",
   "metadata": {
    "ExecuteTime": {
     "end_time": "2023-01-28T08:09:37.356368Z",
     "start_time": "2023-01-28T08:09:37.341296Z"
    }
   },
   "outputs": [
    {
     "data": {
      "text/html": [
       "<div>\n",
       "<style scoped>\n",
       "    .dataframe tbody tr th:only-of-type {\n",
       "        vertical-align: middle;\n",
       "    }\n",
       "\n",
       "    .dataframe tbody tr th {\n",
       "        vertical-align: top;\n",
       "    }\n",
       "\n",
       "    .dataframe thead th {\n",
       "        text-align: right;\n",
       "    }\n",
       "</style>\n",
       "<table border=\"1\" class=\"dataframe\">\n",
       "  <thead>\n",
       "    <tr style=\"text-align: right;\">\n",
       "      <th></th>\n",
       "      <th>기업명</th>\n",
       "      <th>기업코드</th>\n",
       "      <th>ESG등급</th>\n",
       "      <th>환경</th>\n",
       "      <th>사회</th>\n",
       "      <th>지배구조</th>\n",
       "      <th>평가년도</th>\n",
       "    </tr>\n",
       "  </thead>\n",
       "  <tbody>\n",
       "    <tr>\n",
       "      <th>6</th>\n",
       "      <td>BNK캐피탈</td>\n",
       "      <td>801190</td>\n",
       "      <td>-</td>\n",
       "      <td>-</td>\n",
       "      <td>-</td>\n",
       "      <td>B+</td>\n",
       "      <td>2022</td>\n",
       "    </tr>\n",
       "  </tbody>\n",
       "</table>\n",
       "</div>"
      ],
      "text/plain": [
       "      기업명    기업코드 ESG등급 환경 사회 지배구조  평가년도\n",
       "6  BNK캐피탈  801190     -  -  -   B+  2022"
      ]
     },
     "execution_count": 78,
     "metadata": {},
     "output_type": "execute_result"
    }
   ],
   "source": [
    "df_esg[df_esg[\"기업명\"]==\"BNK캐피탈\"]"
   ]
  },
  {
   "cell_type": "code",
   "execution_count": 79,
   "id": "5e8137a9",
   "metadata": {
    "ExecuteTime": {
     "end_time": "2023-01-28T08:09:37.371606Z",
     "start_time": "2023-01-28T08:09:37.357393Z"
    }
   },
   "outputs": [
    {
     "data": {
      "text/html": [
       "<div>\n",
       "<style scoped>\n",
       "    .dataframe tbody tr th:only-of-type {\n",
       "        vertical-align: middle;\n",
       "    }\n",
       "\n",
       "    .dataframe tbody tr th {\n",
       "        vertical-align: top;\n",
       "    }\n",
       "\n",
       "    .dataframe thead th {\n",
       "        text-align: right;\n",
       "    }\n",
       "</style>\n",
       "<table border=\"1\" class=\"dataframe\">\n",
       "  <thead>\n",
       "    <tr style=\"text-align: right;\">\n",
       "      <th></th>\n",
       "      <th>기업명</th>\n",
       "      <th>기업코드</th>\n",
       "      <th>ESG등급</th>\n",
       "      <th>환경</th>\n",
       "      <th>사회</th>\n",
       "      <th>지배구조</th>\n",
       "      <th>평가년도</th>\n",
       "    </tr>\n",
       "  </thead>\n",
       "  <tbody>\n",
       "    <tr>\n",
       "      <th>12</th>\n",
       "      <td>CJ씨푸드</td>\n",
       "      <td>011150</td>\n",
       "      <td>B</td>\n",
       "      <td>C</td>\n",
       "      <td>B</td>\n",
       "      <td>B</td>\n",
       "      <td>2022</td>\n",
       "    </tr>\n",
       "  </tbody>\n",
       "</table>\n",
       "</div>"
      ],
      "text/plain": [
       "      기업명    기업코드 ESG등급 환경 사회 지배구조  평가년도\n",
       "12  CJ씨푸드  011150     B  C  B    B  2022"
      ]
     },
     "execution_count": 79,
     "metadata": {},
     "output_type": "execute_result"
    }
   ],
   "source": [
    "df_esg[df_esg[\"기업명\"]==\"CJ씨푸드\"]"
   ]
  },
  {
   "cell_type": "code",
   "execution_count": 80,
   "id": "f492627e",
   "metadata": {
    "ExecuteTime": {
     "end_time": "2023-01-28T08:09:37.386780Z",
     "start_time": "2023-01-28T08:09:37.373607Z"
    }
   },
   "outputs": [
    {
     "data": {
      "text/html": [
       "<div>\n",
       "<style scoped>\n",
       "    .dataframe tbody tr th:only-of-type {\n",
       "        vertical-align: middle;\n",
       "    }\n",
       "\n",
       "    .dataframe tbody tr th {\n",
       "        vertical-align: top;\n",
       "    }\n",
       "\n",
       "    .dataframe thead th {\n",
       "        text-align: right;\n",
       "    }\n",
       "</style>\n",
       "<table border=\"1\" class=\"dataframe\">\n",
       "  <thead>\n",
       "    <tr style=\"text-align: right;\">\n",
       "      <th></th>\n",
       "      <th>기업명</th>\n",
       "      <th>기업코드</th>\n",
       "      <th>ESG등급</th>\n",
       "      <th>환경</th>\n",
       "      <th>사회</th>\n",
       "      <th>지배구조</th>\n",
       "      <th>평가년도</th>\n",
       "    </tr>\n",
       "  </thead>\n",
       "  <tbody>\n",
       "    <tr>\n",
       "      <th>0</th>\n",
       "      <td>AJ네트웍스</td>\n",
       "      <td>095570</td>\n",
       "      <td>B+</td>\n",
       "      <td>C</td>\n",
       "      <td>B+</td>\n",
       "      <td>B+</td>\n",
       "      <td>2022</td>\n",
       "    </tr>\n",
       "  </tbody>\n",
       "</table>\n",
       "</div>"
      ],
      "text/plain": [
       "      기업명    기업코드 ESG등급 환경  사회 지배구조  평가년도\n",
       "0  AJ네트웍스  095570    B+  C  B+   B+  2022"
      ]
     },
     "execution_count": 80,
     "metadata": {},
     "output_type": "execute_result"
    }
   ],
   "source": [
    "df_esg[df_esg[\"기업명\"]==\"AJ네트웍스\"]"
   ]
  },
  {
   "cell_type": "markdown",
   "id": "271153e0",
   "metadata": {},
   "source": [
    "## 1.2 CSV 파일로 저장"
   ]
  },
  {
   "cell_type": "code",
   "execution_count": 81,
   "id": "249fbb5d",
   "metadata": {
    "ExecuteTime": {
     "end_time": "2023-01-28T08:09:37.402579Z",
     "start_time": "2023-01-28T08:09:37.387781Z"
    }
   },
   "outputs": [],
   "source": [
    "df_esg.to_csv(\"../../data/ESG_Rating(2021).csv\", index=False)"
   ]
  },
  {
   "cell_type": "code",
   "execution_count": 82,
   "id": "dbd1ae97",
   "metadata": {
    "ExecuteTime": {
     "end_time": "2023-01-28T08:09:37.417843Z",
     "start_time": "2023-01-28T08:09:37.403697Z"
    }
   },
   "outputs": [
    {
     "data": {
      "text/html": [
       "<div>\n",
       "<style scoped>\n",
       "    .dataframe tbody tr th:only-of-type {\n",
       "        vertical-align: middle;\n",
       "    }\n",
       "\n",
       "    .dataframe tbody tr th {\n",
       "        vertical-align: top;\n",
       "    }\n",
       "\n",
       "    .dataframe thead th {\n",
       "        text-align: right;\n",
       "    }\n",
       "</style>\n",
       "<table border=\"1\" class=\"dataframe\">\n",
       "  <thead>\n",
       "    <tr style=\"text-align: right;\">\n",
       "      <th></th>\n",
       "      <th>기업명</th>\n",
       "      <th>기업코드</th>\n",
       "      <th>ESG등급</th>\n",
       "      <th>환경</th>\n",
       "      <th>사회</th>\n",
       "      <th>지배구조</th>\n",
       "      <th>평가년도</th>\n",
       "    </tr>\n",
       "  </thead>\n",
       "  <tbody>\n",
       "    <tr>\n",
       "      <th>0</th>\n",
       "      <td>AJ네트웍스</td>\n",
       "      <td>95570</td>\n",
       "      <td>B+</td>\n",
       "      <td>C</td>\n",
       "      <td>B+</td>\n",
       "      <td>B+</td>\n",
       "      <td>2022</td>\n",
       "    </tr>\n",
       "    <tr>\n",
       "      <th>1</th>\n",
       "      <td>AK홀딩스</td>\n",
       "      <td>6840</td>\n",
       "      <td>B+</td>\n",
       "      <td>B</td>\n",
       "      <td>A</td>\n",
       "      <td>B</td>\n",
       "      <td>2022</td>\n",
       "    </tr>\n",
       "  </tbody>\n",
       "</table>\n",
       "</div>"
      ],
      "text/plain": [
       "      기업명   기업코드 ESG등급 환경  사회 지배구조  평가년도\n",
       "0  AJ네트웍스  95570    B+  C  B+   B+  2022\n",
       "1   AK홀딩스   6840    B+  B   A    B  2022"
      ]
     },
     "execution_count": 82,
     "metadata": {},
     "output_type": "execute_result"
    }
   ],
   "source": [
    "pd.read_csv(\"../../data/ESG_Rating(2021).csv\").head(2)"
   ]
  },
  {
   "cell_type": "markdown",
   "id": "5cf78973",
   "metadata": {},
   "source": [
    "## 1.3 기업코드 6자리로 반환하기"
   ]
  },
  {
   "cell_type": "code",
   "execution_count": 83,
   "id": "fdab662f",
   "metadata": {
    "ExecuteTime": {
     "end_time": "2023-01-28T08:09:37.433883Z",
     "start_time": "2023-01-28T08:09:37.418869Z"
    }
   },
   "outputs": [],
   "source": [
    "df_esg['기업코드'] = df_esg['기업코드'].astype('int')"
   ]
  },
  {
   "cell_type": "code",
   "execution_count": 84,
   "id": "daf76fdc",
   "metadata": {
    "ExecuteTime": {
     "end_time": "2023-01-28T08:09:37.449164Z",
     "start_time": "2023-01-28T08:09:37.435159Z"
    }
   },
   "outputs": [
    {
     "name": "stdout",
     "output_type": "stream",
     "text": [
      "<class 'pandas.core.frame.DataFrame'>\n",
      "RangeIndex: 1005 entries, 0 to 1004\n",
      "Data columns (total 7 columns):\n",
      " #   Column  Non-Null Count  Dtype \n",
      "---  ------  --------------  ----- \n",
      " 0   기업명     1005 non-null   object\n",
      " 1   기업코드    1005 non-null   int32 \n",
      " 2   ESG등급   1005 non-null   object\n",
      " 3   환경      1005 non-null   object\n",
      " 4   사회      1005 non-null   object\n",
      " 5   지배구조    1005 non-null   object\n",
      " 6   평가년도    1005 non-null   object\n",
      "dtypes: int32(1), object(6)\n",
      "memory usage: 51.2+ KB\n"
     ]
    }
   ],
   "source": [
    "df_esg.info()"
   ]
  },
  {
   "cell_type": "code",
   "execution_count": 85,
   "id": "c779fc59",
   "metadata": {
    "ExecuteTime": {
     "end_time": "2023-01-28T08:09:37.465203Z",
     "start_time": "2023-01-28T08:09:37.450533Z"
    }
   },
   "outputs": [],
   "source": [
    "def six_digit(x):\n",
    "    if pd.isna(x) == True:\n",
    "        pass\n",
    "    else:\n",
    "        return '%06d' % x"
   ]
  },
  {
   "cell_type": "code",
   "execution_count": 86,
   "id": "9aade7c7",
   "metadata": {
    "ExecuteTime": {
     "end_time": "2023-01-28T08:09:37.480763Z",
     "start_time": "2023-01-28T08:09:37.466225Z"
    }
   },
   "outputs": [
    {
     "data": {
      "text/html": [
       "<div>\n",
       "<style scoped>\n",
       "    .dataframe tbody tr th:only-of-type {\n",
       "        vertical-align: middle;\n",
       "    }\n",
       "\n",
       "    .dataframe tbody tr th {\n",
       "        vertical-align: top;\n",
       "    }\n",
       "\n",
       "    .dataframe thead th {\n",
       "        text-align: right;\n",
       "    }\n",
       "</style>\n",
       "<table border=\"1\" class=\"dataframe\">\n",
       "  <thead>\n",
       "    <tr style=\"text-align: right;\">\n",
       "      <th></th>\n",
       "      <th>기업명</th>\n",
       "      <th>기업코드</th>\n",
       "      <th>ESG등급</th>\n",
       "      <th>환경</th>\n",
       "      <th>사회</th>\n",
       "      <th>지배구조</th>\n",
       "      <th>평가년도</th>\n",
       "    </tr>\n",
       "  </thead>\n",
       "  <tbody>\n",
       "    <tr>\n",
       "      <th>607</th>\n",
       "      <td>영풍</td>\n",
       "      <td>000670</td>\n",
       "      <td>B</td>\n",
       "      <td>C</td>\n",
       "      <td>B+</td>\n",
       "      <td>B</td>\n",
       "      <td>2022</td>\n",
       "    </tr>\n",
       "    <tr>\n",
       "      <th>966</th>\n",
       "      <td>핸즈코퍼레이션</td>\n",
       "      <td>143210</td>\n",
       "      <td>C</td>\n",
       "      <td>C</td>\n",
       "      <td>B</td>\n",
       "      <td>D</td>\n",
       "      <td>2022</td>\n",
       "    </tr>\n",
       "    <tr>\n",
       "      <th>497</th>\n",
       "      <td>수산중공업</td>\n",
       "      <td>017550</td>\n",
       "      <td>D</td>\n",
       "      <td>D</td>\n",
       "      <td>D</td>\n",
       "      <td>C</td>\n",
       "      <td>2022</td>\n",
       "    </tr>\n",
       "    <tr>\n",
       "      <th>206</th>\n",
       "      <td>노루홀딩스</td>\n",
       "      <td>000320</td>\n",
       "      <td>A</td>\n",
       "      <td>B+</td>\n",
       "      <td>A+</td>\n",
       "      <td>B+</td>\n",
       "      <td>2022</td>\n",
       "    </tr>\n",
       "    <tr>\n",
       "      <th>482</th>\n",
       "      <td>세이브존I&amp;C</td>\n",
       "      <td>067830</td>\n",
       "      <td>C</td>\n",
       "      <td>D</td>\n",
       "      <td>C</td>\n",
       "      <td>C</td>\n",
       "      <td>2022</td>\n",
       "    </tr>\n",
       "  </tbody>\n",
       "</table>\n",
       "</div>"
      ],
      "text/plain": [
       "         기업명    기업코드 ESG등급  환경  사회 지배구조  평가년도\n",
       "607       영풍  000670     B   C  B+    B  2022\n",
       "966  핸즈코퍼레이션  143210     C   C   B    D  2022\n",
       "497    수산중공업  017550     D   D   D    C  2022\n",
       "206    노루홀딩스  000320     A  B+  A+   B+  2022\n",
       "482  세이브존I&C  067830     C   D   C    C  2022"
      ]
     },
     "execution_count": 86,
     "metadata": {},
     "output_type": "execute_result"
    }
   ],
   "source": [
    "df_esg['기업코드'] = df_esg['기업코드'].apply(six_digit)\n",
    "df_esg.sample(5)"
   ]
  },
  {
   "cell_type": "markdown",
   "id": "2e58791b",
   "metadata": {},
   "source": [
    "# 2. KRX 정보데이터시스템 - 기업별 ESG 등급 가져오기 => 평가년도: 2011~2018\n",
    "- [KRX 정보데이터시스템](https://data.krx.co.kr/contents/MDC/HARD/hardController/MDCHARD050.cmd#none)"
   ]
  },
  {
   "cell_type": "code",
   "execution_count": 87,
   "id": "f03a0be6",
   "metadata": {
    "ExecuteTime": {
     "end_time": "2023-01-28T08:09:38.246803Z",
     "start_time": "2023-01-28T08:09:37.481767Z"
    }
   },
   "outputs": [
    {
     "data": {
      "text/html": [
       "<div>\n",
       "<style scoped>\n",
       "    .dataframe tbody tr th:only-of-type {\n",
       "        vertical-align: middle;\n",
       "    }\n",
       "\n",
       "    .dataframe tbody tr th {\n",
       "        vertical-align: top;\n",
       "    }\n",
       "\n",
       "    .dataframe thead th {\n",
       "        text-align: right;\n",
       "    }\n",
       "</style>\n",
       "<table border=\"1\" class=\"dataframe\">\n",
       "  <thead>\n",
       "    <tr style=\"text-align: right;\">\n",
       "      <th></th>\n",
       "      <th>ISU_NM</th>\n",
       "      <th>GRD1</th>\n",
       "      <th>GRD2</th>\n",
       "      <th>GRD3</th>\n",
       "      <th>GRD4</th>\n",
       "      <th>YY</th>\n",
       "    </tr>\n",
       "  </thead>\n",
       "  <tbody>\n",
       "    <tr>\n",
       "      <th>0</th>\n",
       "      <td>AK홀딩스</td>\n",
       "      <td>B이하</td>\n",
       "      <td>B</td>\n",
       "      <td>B이하</td>\n",
       "      <td>B이하</td>\n",
       "      <td>2011</td>\n",
       "    </tr>\n",
       "    <tr>\n",
       "      <th>1</th>\n",
       "      <td>BYC</td>\n",
       "      <td>B이하</td>\n",
       "      <td>B</td>\n",
       "      <td>B이하</td>\n",
       "      <td>B이하</td>\n",
       "      <td>2011</td>\n",
       "    </tr>\n",
       "    <tr>\n",
       "      <th>2</th>\n",
       "      <td>CJ</td>\n",
       "      <td>B이하</td>\n",
       "      <td>B+</td>\n",
       "      <td>B이하</td>\n",
       "      <td></td>\n",
       "      <td>2011</td>\n",
       "    </tr>\n",
       "    <tr>\n",
       "      <th>3</th>\n",
       "      <td>CJ CGV</td>\n",
       "      <td>B이하</td>\n",
       "      <td>B</td>\n",
       "      <td>B이하</td>\n",
       "      <td></td>\n",
       "      <td>2011</td>\n",
       "    </tr>\n",
       "    <tr>\n",
       "      <th>4</th>\n",
       "      <td>CJ대한통운</td>\n",
       "      <td>B+</td>\n",
       "      <td>B</td>\n",
       "      <td>B+</td>\n",
       "      <td>B이하</td>\n",
       "      <td>2011</td>\n",
       "    </tr>\n",
       "    <tr>\n",
       "      <th>...</th>\n",
       "      <td>...</td>\n",
       "      <td>...</td>\n",
       "      <td>...</td>\n",
       "      <td>...</td>\n",
       "      <td>...</td>\n",
       "      <td>...</td>\n",
       "    </tr>\n",
       "    <tr>\n",
       "      <th>5649</th>\n",
       "      <td>샘표</td>\n",
       "      <td>B이하</td>\n",
       "      <td>B</td>\n",
       "      <td>B이하</td>\n",
       "      <td>B이하</td>\n",
       "      <td>2018</td>\n",
       "    </tr>\n",
       "    <tr>\n",
       "      <th>5650</th>\n",
       "      <td>샘표식품</td>\n",
       "      <td>B+</td>\n",
       "      <td>B</td>\n",
       "      <td>B+</td>\n",
       "      <td>B+</td>\n",
       "      <td>2018</td>\n",
       "    </tr>\n",
       "    <tr>\n",
       "      <th>5651</th>\n",
       "      <td>서연</td>\n",
       "      <td>B이하</td>\n",
       "      <td>B</td>\n",
       "      <td>B이하</td>\n",
       "      <td>B이하</td>\n",
       "      <td>2018</td>\n",
       "    </tr>\n",
       "    <tr>\n",
       "      <th>5652</th>\n",
       "      <td>서연이화</td>\n",
       "      <td>B+</td>\n",
       "      <td>B+</td>\n",
       "      <td>B+</td>\n",
       "      <td>B이하</td>\n",
       "      <td>2018</td>\n",
       "    </tr>\n",
       "    <tr>\n",
       "      <th>5653</th>\n",
       "      <td>서울도시가스</td>\n",
       "      <td>B이하</td>\n",
       "      <td>B</td>\n",
       "      <td>B이하</td>\n",
       "      <td>B이하</td>\n",
       "      <td>2018</td>\n",
       "    </tr>\n",
       "  </tbody>\n",
       "</table>\n",
       "<p>5654 rows × 6 columns</p>\n",
       "</div>"
      ],
      "text/plain": [
       "      ISU_NM GRD1 GRD2 GRD3 GRD4    YY\n",
       "0      AK홀딩스  B이하    B  B이하  B이하  2011\n",
       "1        BYC  B이하    B  B이하  B이하  2011\n",
       "2         CJ  B이하   B+  B이하       2011\n",
       "3     CJ CGV  B이하    B  B이하       2011\n",
       "4     CJ대한통운   B+    B   B+  B이하  2011\n",
       "...      ...  ...  ...  ...  ...   ...\n",
       "5649      샘표  B이하    B  B이하  B이하  2018\n",
       "5650    샘표식품   B+    B   B+   B+  2018\n",
       "5651      서연  B이하    B  B이하  B이하  2018\n",
       "5652    서연이화   B+   B+   B+  B이하  2018\n",
       "5653  서울도시가스  B이하    B  B이하  B이하  2018\n",
       "\n",
       "[5654 rows x 6 columns]"
      ]
     },
     "execution_count": 87,
     "metadata": {},
     "output_type": "execute_result"
    }
   ],
   "source": [
    "import requests\n",
    "import pandas as pd\n",
    "\n",
    "\n",
    "headers = {\n",
    "    'User-Agent': 'Mozilla/5.0 (Windows NT 6.1; WOW64; Trident/7.0; rv:11.0) like Gecko',\n",
    "}\n",
    "\n",
    "df_list = []\n",
    "for year in range(2011, 2018 + 1):\n",
    "    data = {'bld': 'dbms/MDC/HARD/MDCHARD05001',\n",
    "    'locale': 'ko_KR',\n",
    "    'selTp': '1','grdYy': year}\n",
    "    response = requests.post('https://data.krx.co.kr/comm/bldAttendant/getJsonData.cmd', headers = headers, data = data)\n",
    "    df_list.append(pd.DataFrame(response.json()['block1']))\n",
    "df = pd.concat(df_list).drop(columns = 'RN').reset_index(drop = True)\n",
    "df"
   ]
  },
  {
   "cell_type": "code",
   "execution_count": 88,
   "id": "721bb926",
   "metadata": {
    "ExecuteTime": {
     "end_time": "2023-01-28T08:09:38.262702Z",
     "start_time": "2023-01-28T08:09:38.248032Z"
    }
   },
   "outputs": [],
   "source": [
    "df.columns = ['기업명','ESG등급','환경','사회','지배구조','평가년도']"
   ]
  },
  {
   "cell_type": "code",
   "execution_count": 89,
   "id": "f8589b63",
   "metadata": {
    "ExecuteTime": {
     "end_time": "2023-01-28T08:09:38.278375Z",
     "start_time": "2023-01-28T08:09:38.263736Z"
    }
   },
   "outputs": [
    {
     "data": {
      "text/html": [
       "<div>\n",
       "<style scoped>\n",
       "    .dataframe tbody tr th:only-of-type {\n",
       "        vertical-align: middle;\n",
       "    }\n",
       "\n",
       "    .dataframe tbody tr th {\n",
       "        vertical-align: top;\n",
       "    }\n",
       "\n",
       "    .dataframe thead th {\n",
       "        text-align: right;\n",
       "    }\n",
       "</style>\n",
       "<table border=\"1\" class=\"dataframe\">\n",
       "  <thead>\n",
       "    <tr style=\"text-align: right;\">\n",
       "      <th></th>\n",
       "      <th>기업명</th>\n",
       "      <th>ESG등급</th>\n",
       "      <th>환경</th>\n",
       "      <th>사회</th>\n",
       "      <th>지배구조</th>\n",
       "      <th>평가년도</th>\n",
       "    </tr>\n",
       "  </thead>\n",
       "  <tbody>\n",
       "    <tr>\n",
       "      <th>0</th>\n",
       "      <td>AK홀딩스</td>\n",
       "      <td>B이하</td>\n",
       "      <td>B</td>\n",
       "      <td>B이하</td>\n",
       "      <td>B이하</td>\n",
       "      <td>2011</td>\n",
       "    </tr>\n",
       "    <tr>\n",
       "      <th>1</th>\n",
       "      <td>BYC</td>\n",
       "      <td>B이하</td>\n",
       "      <td>B</td>\n",
       "      <td>B이하</td>\n",
       "      <td>B이하</td>\n",
       "      <td>2011</td>\n",
       "    </tr>\n",
       "    <tr>\n",
       "      <th>2</th>\n",
       "      <td>CJ</td>\n",
       "      <td>B이하</td>\n",
       "      <td>B+</td>\n",
       "      <td>B이하</td>\n",
       "      <td></td>\n",
       "      <td>2011</td>\n",
       "    </tr>\n",
       "    <tr>\n",
       "      <th>3</th>\n",
       "      <td>CJ CGV</td>\n",
       "      <td>B이하</td>\n",
       "      <td>B</td>\n",
       "      <td>B이하</td>\n",
       "      <td></td>\n",
       "      <td>2011</td>\n",
       "    </tr>\n",
       "    <tr>\n",
       "      <th>4</th>\n",
       "      <td>CJ대한통운</td>\n",
       "      <td>B+</td>\n",
       "      <td>B</td>\n",
       "      <td>B+</td>\n",
       "      <td>B이하</td>\n",
       "      <td>2011</td>\n",
       "    </tr>\n",
       "    <tr>\n",
       "      <th>...</th>\n",
       "      <td>...</td>\n",
       "      <td>...</td>\n",
       "      <td>...</td>\n",
       "      <td>...</td>\n",
       "      <td>...</td>\n",
       "      <td>...</td>\n",
       "    </tr>\n",
       "    <tr>\n",
       "      <th>5649</th>\n",
       "      <td>샘표</td>\n",
       "      <td>B이하</td>\n",
       "      <td>B</td>\n",
       "      <td>B이하</td>\n",
       "      <td>B이하</td>\n",
       "      <td>2018</td>\n",
       "    </tr>\n",
       "    <tr>\n",
       "      <th>5650</th>\n",
       "      <td>샘표식품</td>\n",
       "      <td>B+</td>\n",
       "      <td>B</td>\n",
       "      <td>B+</td>\n",
       "      <td>B+</td>\n",
       "      <td>2018</td>\n",
       "    </tr>\n",
       "    <tr>\n",
       "      <th>5651</th>\n",
       "      <td>서연</td>\n",
       "      <td>B이하</td>\n",
       "      <td>B</td>\n",
       "      <td>B이하</td>\n",
       "      <td>B이하</td>\n",
       "      <td>2018</td>\n",
       "    </tr>\n",
       "    <tr>\n",
       "      <th>5652</th>\n",
       "      <td>서연이화</td>\n",
       "      <td>B+</td>\n",
       "      <td>B+</td>\n",
       "      <td>B+</td>\n",
       "      <td>B이하</td>\n",
       "      <td>2018</td>\n",
       "    </tr>\n",
       "    <tr>\n",
       "      <th>5653</th>\n",
       "      <td>서울도시가스</td>\n",
       "      <td>B이하</td>\n",
       "      <td>B</td>\n",
       "      <td>B이하</td>\n",
       "      <td>B이하</td>\n",
       "      <td>2018</td>\n",
       "    </tr>\n",
       "  </tbody>\n",
       "</table>\n",
       "<p>5654 rows × 6 columns</p>\n",
       "</div>"
      ],
      "text/plain": [
       "         기업명 ESG등급  환경   사회 지배구조  평가년도\n",
       "0      AK홀딩스   B이하   B  B이하  B이하  2011\n",
       "1        BYC   B이하   B  B이하  B이하  2011\n",
       "2         CJ   B이하  B+  B이하       2011\n",
       "3     CJ CGV   B이하   B  B이하       2011\n",
       "4     CJ대한통운    B+   B   B+  B이하  2011\n",
       "...      ...   ...  ..  ...  ...   ...\n",
       "5649      샘표   B이하   B  B이하  B이하  2018\n",
       "5650    샘표식품    B+   B   B+   B+  2018\n",
       "5651      서연   B이하   B  B이하  B이하  2018\n",
       "5652    서연이화    B+  B+   B+  B이하  2018\n",
       "5653  서울도시가스   B이하   B  B이하  B이하  2018\n",
       "\n",
       "[5654 rows x 6 columns]"
      ]
     },
     "execution_count": 89,
     "metadata": {},
     "output_type": "execute_result"
    }
   ],
   "source": [
    "df"
   ]
  },
  {
   "cell_type": "code",
   "execution_count": 90,
   "id": "ab9d9d8e",
   "metadata": {
    "ExecuteTime": {
     "end_time": "2023-01-28T08:09:38.294165Z",
     "start_time": "2023-01-28T08:09:38.279873Z"
    }
   },
   "outputs": [
    {
     "data": {
      "text/plain": [
       "기업명      0\n",
       "ESG등급    0\n",
       "환경       0\n",
       "사회       0\n",
       "지배구조     0\n",
       "평가년도     0\n",
       "dtype: int64"
      ]
     },
     "execution_count": 90,
     "metadata": {},
     "output_type": "execute_result"
    }
   ],
   "source": [
    "df.isnull().sum()"
   ]
  },
  {
   "cell_type": "markdown",
   "id": "8a94bda6",
   "metadata": {},
   "source": [
    "## 2.1 평가년도를 2018년부터 나오도록 정렬"
   ]
  },
  {
   "cell_type": "code",
   "execution_count": 91,
   "id": "ec6960c3",
   "metadata": {
    "ExecuteTime": {
     "end_time": "2023-01-28T08:09:38.309349Z",
     "start_time": "2023-01-28T08:09:38.295209Z"
    }
   },
   "outputs": [
    {
     "data": {
      "text/html": [
       "<div>\n",
       "<style scoped>\n",
       "    .dataframe tbody tr th:only-of-type {\n",
       "        vertical-align: middle;\n",
       "    }\n",
       "\n",
       "    .dataframe tbody tr th {\n",
       "        vertical-align: top;\n",
       "    }\n",
       "\n",
       "    .dataframe thead th {\n",
       "        text-align: right;\n",
       "    }\n",
       "</style>\n",
       "<table border=\"1\" class=\"dataframe\">\n",
       "  <thead>\n",
       "    <tr style=\"text-align: right;\">\n",
       "      <th></th>\n",
       "      <th>기업명</th>\n",
       "      <th>ESG등급</th>\n",
       "      <th>환경</th>\n",
       "      <th>사회</th>\n",
       "      <th>지배구조</th>\n",
       "      <th>평가년도</th>\n",
       "    </tr>\n",
       "  </thead>\n",
       "  <tbody>\n",
       "    <tr>\n",
       "      <th>0</th>\n",
       "      <td>서울도시가스</td>\n",
       "      <td>B이하</td>\n",
       "      <td>B</td>\n",
       "      <td>B이하</td>\n",
       "      <td>B이하</td>\n",
       "      <td>2018</td>\n",
       "    </tr>\n",
       "    <tr>\n",
       "      <th>1</th>\n",
       "      <td>티비에이치글로벌</td>\n",
       "      <td>B이하</td>\n",
       "      <td>B</td>\n",
       "      <td>B이하</td>\n",
       "      <td>B이하</td>\n",
       "      <td>2018</td>\n",
       "    </tr>\n",
       "    <tr>\n",
       "      <th>2</th>\n",
       "      <td>평화산업</td>\n",
       "      <td>B이하</td>\n",
       "      <td>B</td>\n",
       "      <td>B이하</td>\n",
       "      <td>B+</td>\n",
       "      <td>2018</td>\n",
       "    </tr>\n",
       "    <tr>\n",
       "      <th>3</th>\n",
       "      <td>페이퍼코리아</td>\n",
       "      <td>B이하</td>\n",
       "      <td>C</td>\n",
       "      <td>B이하</td>\n",
       "      <td>B이하</td>\n",
       "      <td>2018</td>\n",
       "    </tr>\n",
       "    <tr>\n",
       "      <th>4</th>\n",
       "      <td>퍼시스</td>\n",
       "      <td>B이하</td>\n",
       "      <td>B</td>\n",
       "      <td>B이하</td>\n",
       "      <td>B이하</td>\n",
       "      <td>2018</td>\n",
       "    </tr>\n",
       "    <tr>\n",
       "      <th>...</th>\n",
       "      <td>...</td>\n",
       "      <td>...</td>\n",
       "      <td>...</td>\n",
       "      <td>...</td>\n",
       "      <td>...</td>\n",
       "      <td>...</td>\n",
       "    </tr>\n",
       "    <tr>\n",
       "      <th>5649</th>\n",
       "      <td>성신양회</td>\n",
       "      <td>B이하</td>\n",
       "      <td>B+</td>\n",
       "      <td>B이하</td>\n",
       "      <td>B이하</td>\n",
       "      <td>2011</td>\n",
       "    </tr>\n",
       "    <tr>\n",
       "      <th>5650</th>\n",
       "      <td>성보화학</td>\n",
       "      <td></td>\n",
       "      <td>B</td>\n",
       "      <td></td>\n",
       "      <td></td>\n",
       "      <td>2011</td>\n",
       "    </tr>\n",
       "    <tr>\n",
       "      <th>5651</th>\n",
       "      <td>성문전자</td>\n",
       "      <td>B이하</td>\n",
       "      <td>C</td>\n",
       "      <td>B이하</td>\n",
       "      <td>B이하</td>\n",
       "      <td>2011</td>\n",
       "    </tr>\n",
       "    <tr>\n",
       "      <th>5652</th>\n",
       "      <td>선창산업</td>\n",
       "      <td>B이하</td>\n",
       "      <td>B</td>\n",
       "      <td>B이하</td>\n",
       "      <td>B이하</td>\n",
       "      <td>2011</td>\n",
       "    </tr>\n",
       "    <tr>\n",
       "      <th>5653</th>\n",
       "      <td>AK홀딩스</td>\n",
       "      <td>B이하</td>\n",
       "      <td>B</td>\n",
       "      <td>B이하</td>\n",
       "      <td>B이하</td>\n",
       "      <td>2011</td>\n",
       "    </tr>\n",
       "  </tbody>\n",
       "</table>\n",
       "<p>5654 rows × 6 columns</p>\n",
       "</div>"
      ],
      "text/plain": [
       "           기업명 ESG등급  환경   사회 지배구조  평가년도\n",
       "0       서울도시가스   B이하   B  B이하  B이하  2018\n",
       "1     티비에이치글로벌   B이하   B  B이하  B이하  2018\n",
       "2         평화산업   B이하   B  B이하   B+  2018\n",
       "3       페이퍼코리아   B이하   C  B이하  B이하  2018\n",
       "4          퍼시스   B이하   B  B이하  B이하  2018\n",
       "...        ...   ...  ..  ...  ...   ...\n",
       "5649      성신양회   B이하  B+  B이하  B이하  2011\n",
       "5650      성보화학         B            2011\n",
       "5651      성문전자   B이하   C  B이하  B이하  2011\n",
       "5652      선창산업   B이하   B  B이하  B이하  2011\n",
       "5653     AK홀딩스   B이하   B  B이하  B이하  2011\n",
       "\n",
       "[5654 rows x 6 columns]"
      ]
     },
     "execution_count": 91,
     "metadata": {},
     "output_type": "execute_result"
    }
   ],
   "source": [
    "df = df.sort_values(by=\"평가년도\", ascending=False) \n",
    "\n",
    "df = df.reset_index(drop=True)\n",
    "df"
   ]
  },
  {
   "cell_type": "markdown",
   "id": "0776221e",
   "metadata": {},
   "source": [
    "## 2.2 csv 파일로 저장"
   ]
  },
  {
   "cell_type": "code",
   "execution_count": 92,
   "id": "b6d3e3b8",
   "metadata": {
    "ExecuteTime": {
     "end_time": "2023-01-28T08:09:38.340285Z",
     "start_time": "2023-01-28T08:09:38.313705Z"
    }
   },
   "outputs": [],
   "source": [
    "df.to_csv(\"../../data/ESG_Rating(2011-2018).csv\", index=False)"
   ]
  },
  {
   "cell_type": "code",
   "execution_count": 93,
   "id": "8764c2b7",
   "metadata": {
    "ExecuteTime": {
     "end_time": "2023-01-28T08:09:38.371624Z",
     "start_time": "2023-01-28T08:09:38.342935Z"
    }
   },
   "outputs": [
    {
     "data": {
      "text/html": [
       "<div>\n",
       "<style scoped>\n",
       "    .dataframe tbody tr th:only-of-type {\n",
       "        vertical-align: middle;\n",
       "    }\n",
       "\n",
       "    .dataframe tbody tr th {\n",
       "        vertical-align: top;\n",
       "    }\n",
       "\n",
       "    .dataframe thead th {\n",
       "        text-align: right;\n",
       "    }\n",
       "</style>\n",
       "<table border=\"1\" class=\"dataframe\">\n",
       "  <thead>\n",
       "    <tr style=\"text-align: right;\">\n",
       "      <th></th>\n",
       "      <th>기업명</th>\n",
       "      <th>ESG등급</th>\n",
       "      <th>환경</th>\n",
       "      <th>사회</th>\n",
       "      <th>지배구조</th>\n",
       "      <th>평가년도</th>\n",
       "    </tr>\n",
       "  </thead>\n",
       "  <tbody>\n",
       "    <tr>\n",
       "      <th>0</th>\n",
       "      <td>서울도시가스</td>\n",
       "      <td>B이하</td>\n",
       "      <td>B</td>\n",
       "      <td>B이하</td>\n",
       "      <td>B이하</td>\n",
       "      <td>2018</td>\n",
       "    </tr>\n",
       "    <tr>\n",
       "      <th>1</th>\n",
       "      <td>티비에이치글로벌</td>\n",
       "      <td>B이하</td>\n",
       "      <td>B</td>\n",
       "      <td>B이하</td>\n",
       "      <td>B이하</td>\n",
       "      <td>2018</td>\n",
       "    </tr>\n",
       "    <tr>\n",
       "      <th>2</th>\n",
       "      <td>평화산업</td>\n",
       "      <td>B이하</td>\n",
       "      <td>B</td>\n",
       "      <td>B이하</td>\n",
       "      <td>B+</td>\n",
       "      <td>2018</td>\n",
       "    </tr>\n",
       "    <tr>\n",
       "      <th>3</th>\n",
       "      <td>페이퍼코리아</td>\n",
       "      <td>B이하</td>\n",
       "      <td>C</td>\n",
       "      <td>B이하</td>\n",
       "      <td>B이하</td>\n",
       "      <td>2018</td>\n",
       "    </tr>\n",
       "    <tr>\n",
       "      <th>4</th>\n",
       "      <td>퍼시스</td>\n",
       "      <td>B이하</td>\n",
       "      <td>B</td>\n",
       "      <td>B이하</td>\n",
       "      <td>B이하</td>\n",
       "      <td>2018</td>\n",
       "    </tr>\n",
       "    <tr>\n",
       "      <th>...</th>\n",
       "      <td>...</td>\n",
       "      <td>...</td>\n",
       "      <td>...</td>\n",
       "      <td>...</td>\n",
       "      <td>...</td>\n",
       "      <td>...</td>\n",
       "    </tr>\n",
       "    <tr>\n",
       "      <th>5649</th>\n",
       "      <td>성신양회</td>\n",
       "      <td>B이하</td>\n",
       "      <td>B+</td>\n",
       "      <td>B이하</td>\n",
       "      <td>B이하</td>\n",
       "      <td>2011</td>\n",
       "    </tr>\n",
       "    <tr>\n",
       "      <th>5650</th>\n",
       "      <td>성보화학</td>\n",
       "      <td>NaN</td>\n",
       "      <td>B</td>\n",
       "      <td>NaN</td>\n",
       "      <td>NaN</td>\n",
       "      <td>2011</td>\n",
       "    </tr>\n",
       "    <tr>\n",
       "      <th>5651</th>\n",
       "      <td>성문전자</td>\n",
       "      <td>B이하</td>\n",
       "      <td>C</td>\n",
       "      <td>B이하</td>\n",
       "      <td>B이하</td>\n",
       "      <td>2011</td>\n",
       "    </tr>\n",
       "    <tr>\n",
       "      <th>5652</th>\n",
       "      <td>선창산업</td>\n",
       "      <td>B이하</td>\n",
       "      <td>B</td>\n",
       "      <td>B이하</td>\n",
       "      <td>B이하</td>\n",
       "      <td>2011</td>\n",
       "    </tr>\n",
       "    <tr>\n",
       "      <th>5653</th>\n",
       "      <td>AK홀딩스</td>\n",
       "      <td>B이하</td>\n",
       "      <td>B</td>\n",
       "      <td>B이하</td>\n",
       "      <td>B이하</td>\n",
       "      <td>2011</td>\n",
       "    </tr>\n",
       "  </tbody>\n",
       "</table>\n",
       "<p>5654 rows × 6 columns</p>\n",
       "</div>"
      ],
      "text/plain": [
       "           기업명 ESG등급  환경   사회 지배구조  평가년도\n",
       "0       서울도시가스   B이하   B  B이하  B이하  2018\n",
       "1     티비에이치글로벌   B이하   B  B이하  B이하  2018\n",
       "2         평화산업   B이하   B  B이하   B+  2018\n",
       "3       페이퍼코리아   B이하   C  B이하  B이하  2018\n",
       "4          퍼시스   B이하   B  B이하  B이하  2018\n",
       "...        ...   ...  ..  ...  ...   ...\n",
       "5649      성신양회   B이하  B+  B이하  B이하  2011\n",
       "5650      성보화학   NaN   B  NaN  NaN  2011\n",
       "5651      성문전자   B이하   C  B이하  B이하  2011\n",
       "5652      선창산업   B이하   B  B이하  B이하  2011\n",
       "5653     AK홀딩스   B이하   B  B이하  B이하  2011\n",
       "\n",
       "[5654 rows x 6 columns]"
      ]
     },
     "execution_count": 93,
     "metadata": {},
     "output_type": "execute_result"
    }
   ],
   "source": [
    "pd.read_csv(\"../../data/ESG_Rating(2011-2018).csv\")"
   ]
  },
  {
   "cell_type": "markdown",
   "id": "272a3a9d",
   "metadata": {},
   "source": [
    "## 2.3 ESG 기준원 데이터와 merge 하기 위해 기업코드 데이터 가져오기\n",
    "- FinanceDataReader 로 KRX 전체 종목 가져오기\n",
    "\n",
    "| **국내 주식** |               |   | **미국 주식** |                      |\n",
    "|:-------------:|---------------|---|:-------------:|----------------------|\n",
    "|   **Market**  |               |   |   **Market**  |                      |\n",
    "|      KRX      | KRX 전체 종목 |   |     NASDAQ    |      NASDAQ 종목     |\n",
    "|     KOSPI     |   KOSPI 종목  |   |      NYSE     | 뉴욕 증권거래소 종목 |\n",
    "|     KOSDAQ    |  KOSDAQ 종목  |   |      AMEX     |       AMEX 종목      |\n",
    "|     KONEX     |   KONEX 종목  |   |     SP500     |      S&P500 종목     |"
   ]
  },
  {
   "cell_type": "code",
   "execution_count": 94,
   "id": "72bbe5d6",
   "metadata": {
    "ExecuteTime": {
     "end_time": "2023-01-28T08:09:38.387672Z",
     "start_time": "2023-01-28T08:09:38.372629Z"
    }
   },
   "outputs": [
    {
     "data": {
      "text/plain": [
       "'0.9.42'"
      ]
     },
     "execution_count": 94,
     "metadata": {},
     "output_type": "execute_result"
    }
   ],
   "source": [
    "# FinanceDataReader 를 fdr 별칭으로 불러오기\n",
    "import FinanceDataReader as fdr\n",
    "\n",
    "fdr.__version__"
   ]
  },
  {
   "cell_type": "code",
   "execution_count": 95,
   "id": "e4377698",
   "metadata": {
    "ExecuteTime": {
     "end_time": "2023-01-28T08:09:44.766223Z",
     "start_time": "2023-01-28T08:09:38.388980Z"
    }
   },
   "outputs": [
    {
     "data": {
      "text/html": [
       "<div>\n",
       "<style scoped>\n",
       "    .dataframe tbody tr th:only-of-type {\n",
       "        vertical-align: middle;\n",
       "    }\n",
       "\n",
       "    .dataframe tbody tr th {\n",
       "        vertical-align: top;\n",
       "    }\n",
       "\n",
       "    .dataframe thead th {\n",
       "        text-align: right;\n",
       "    }\n",
       "</style>\n",
       "<table border=\"1\" class=\"dataframe\">\n",
       "  <thead>\n",
       "    <tr style=\"text-align: right;\">\n",
       "      <th></th>\n",
       "      <th>Symbol</th>\n",
       "      <th>Market</th>\n",
       "      <th>Name</th>\n",
       "      <th>Sector</th>\n",
       "      <th>Industry</th>\n",
       "      <th>ListingDate</th>\n",
       "      <th>SettleMonth</th>\n",
       "      <th>Representative</th>\n",
       "      <th>HomePage</th>\n",
       "      <th>Region</th>\n",
       "    </tr>\n",
       "  </thead>\n",
       "  <tbody>\n",
       "    <tr>\n",
       "      <th>0</th>\n",
       "      <td>060310</td>\n",
       "      <td>KOSDAQ</td>\n",
       "      <td>3S</td>\n",
       "      <td>전자부품 제조업</td>\n",
       "      <td>반도체 웨이퍼 캐리어</td>\n",
       "      <td>2002-04-23</td>\n",
       "      <td>03월</td>\n",
       "      <td>김세완</td>\n",
       "      <td>http://www.3sref.com</td>\n",
       "      <td>서울특별시</td>\n",
       "    </tr>\n",
       "    <tr>\n",
       "      <th>1</th>\n",
       "      <td>105190</td>\n",
       "      <td>KOSPI</td>\n",
       "      <td>ACE 200</td>\n",
       "      <td>NaN</td>\n",
       "      <td>NaN</td>\n",
       "      <td>NaT</td>\n",
       "      <td>NaN</td>\n",
       "      <td>NaN</td>\n",
       "      <td>NaN</td>\n",
       "      <td>NaN</td>\n",
       "    </tr>\n",
       "    <tr>\n",
       "      <th>2</th>\n",
       "      <td>332500</td>\n",
       "      <td>KOSPI</td>\n",
       "      <td>ACE 200TR</td>\n",
       "      <td>NaN</td>\n",
       "      <td>NaN</td>\n",
       "      <td>NaT</td>\n",
       "      <td>NaN</td>\n",
       "      <td>NaN</td>\n",
       "      <td>NaN</td>\n",
       "      <td>NaN</td>\n",
       "    </tr>\n",
       "    <tr>\n",
       "      <th>3</th>\n",
       "      <td>448870</td>\n",
       "      <td>KOSPI</td>\n",
       "      <td>ACE 23-12 회사채(AA-이상)액티브</td>\n",
       "      <td>NaN</td>\n",
       "      <td>NaN</td>\n",
       "      <td>NaT</td>\n",
       "      <td>NaN</td>\n",
       "      <td>NaN</td>\n",
       "      <td>NaN</td>\n",
       "      <td>NaN</td>\n",
       "    </tr>\n",
       "    <tr>\n",
       "      <th>4</th>\n",
       "      <td>448880</td>\n",
       "      <td>KOSPI</td>\n",
       "      <td>ACE 24-12 회사채(AA-이상)액티브</td>\n",
       "      <td>NaN</td>\n",
       "      <td>NaN</td>\n",
       "      <td>NaT</td>\n",
       "      <td>NaN</td>\n",
       "      <td>NaN</td>\n",
       "      <td>NaN</td>\n",
       "      <td>NaN</td>\n",
       "    </tr>\n",
       "  </tbody>\n",
       "</table>\n",
       "</div>"
      ],
      "text/plain": [
       "   Symbol  Market                     Name    Sector     Industry ListingDate  \\\n",
       "0  060310  KOSDAQ                       3S  전자부품 제조업  반도체 웨이퍼 캐리어  2002-04-23   \n",
       "1  105190   KOSPI                  ACE 200       NaN          NaN         NaT   \n",
       "2  332500   KOSPI                ACE 200TR       NaN          NaN         NaT   \n",
       "3  448870   KOSPI  ACE 23-12 회사채(AA-이상)액티브       NaN          NaN         NaT   \n",
       "4  448880   KOSPI  ACE 24-12 회사채(AA-이상)액티브       NaN          NaN         NaT   \n",
       "\n",
       "  SettleMonth Representative              HomePage Region  \n",
       "0         03월            김세완  http://www.3sref.com  서울특별시  \n",
       "1         NaN            NaN                   NaN    NaN  \n",
       "2         NaN            NaN                   NaN    NaN  \n",
       "3         NaN            NaN                   NaN    NaN  \n",
       "4         NaN            NaN                   NaN    NaN  "
      ]
     },
     "execution_count": 95,
     "metadata": {},
     "output_type": "execute_result"
    }
   ],
   "source": [
    "df_krx = fdr.StockListing(\"KRX\")\n",
    "df_krx.head()"
   ]
  },
  {
   "cell_type": "code",
   "execution_count": 96,
   "id": "c5e71fe0",
   "metadata": {
    "ExecuteTime": {
     "end_time": "2023-01-28T08:09:44.781630Z",
     "start_time": "2023-01-28T08:09:44.767559Z"
    }
   },
   "outputs": [
    {
     "data": {
      "text/html": [
       "<div>\n",
       "<style scoped>\n",
       "    .dataframe tbody tr th:only-of-type {\n",
       "        vertical-align: middle;\n",
       "    }\n",
       "\n",
       "    .dataframe tbody tr th {\n",
       "        vertical-align: top;\n",
       "    }\n",
       "\n",
       "    .dataframe thead th {\n",
       "        text-align: right;\n",
       "    }\n",
       "</style>\n",
       "<table border=\"1\" class=\"dataframe\">\n",
       "  <thead>\n",
       "    <tr style=\"text-align: right;\">\n",
       "      <th></th>\n",
       "      <th>Name</th>\n",
       "      <th>기업코드</th>\n",
       "    </tr>\n",
       "  </thead>\n",
       "  <tbody>\n",
       "    <tr>\n",
       "      <th>0</th>\n",
       "      <td>3S</td>\n",
       "      <td>060310</td>\n",
       "    </tr>\n",
       "    <tr>\n",
       "      <th>1</th>\n",
       "      <td>ACE 200</td>\n",
       "      <td>105190</td>\n",
       "    </tr>\n",
       "    <tr>\n",
       "      <th>2</th>\n",
       "      <td>ACE 200TR</td>\n",
       "      <td>332500</td>\n",
       "    </tr>\n",
       "    <tr>\n",
       "      <th>3</th>\n",
       "      <td>ACE 23-12 회사채(AA-이상)액티브</td>\n",
       "      <td>448870</td>\n",
       "    </tr>\n",
       "    <tr>\n",
       "      <th>4</th>\n",
       "      <td>ACE 24-12 회사채(AA-이상)액티브</td>\n",
       "      <td>448880</td>\n",
       "    </tr>\n",
       "    <tr>\n",
       "      <th>...</th>\n",
       "      <td>...</td>\n",
       "      <td>...</td>\n",
       "    </tr>\n",
       "    <tr>\n",
       "      <th>6890</th>\n",
       "      <td>히어로즈 TDF2050액티브</td>\n",
       "      <td>435550</td>\n",
       "    </tr>\n",
       "    <tr>\n",
       "      <th>6891</th>\n",
       "      <td>히어로즈 글로벌리츠이지스액티브</td>\n",
       "      <td>437550</td>\n",
       "    </tr>\n",
       "    <tr>\n",
       "      <th>6892</th>\n",
       "      <td>히어로즈 단기채권ESG액티브</td>\n",
       "      <td>419890</td>\n",
       "    </tr>\n",
       "    <tr>\n",
       "      <th>6893</th>\n",
       "      <td>히어로즈 리츠이지스액티브</td>\n",
       "      <td>429870</td>\n",
       "    </tr>\n",
       "    <tr>\n",
       "      <th>6894</th>\n",
       "      <td>힘스</td>\n",
       "      <td>238490</td>\n",
       "    </tr>\n",
       "  </tbody>\n",
       "</table>\n",
       "<p>6895 rows × 2 columns</p>\n",
       "</div>"
      ],
      "text/plain": [
       "                         Name    기업코드\n",
       "0                          3S  060310\n",
       "1                     ACE 200  105190\n",
       "2                   ACE 200TR  332500\n",
       "3     ACE 23-12 회사채(AA-이상)액티브  448870\n",
       "4     ACE 24-12 회사채(AA-이상)액티브  448880\n",
       "...                       ...     ...\n",
       "6890          히어로즈 TDF2050액티브  435550\n",
       "6891         히어로즈 글로벌리츠이지스액티브  437550\n",
       "6892          히어로즈 단기채권ESG액티브  419890\n",
       "6893            히어로즈 리츠이지스액티브  429870\n",
       "6894                       힘스  238490\n",
       "\n",
       "[6895 rows x 2 columns]"
      ]
     },
     "execution_count": 96,
     "metadata": {},
     "output_type": "execute_result"
    }
   ],
   "source": [
    "df_krx = df_krx[['Name','Symbol']]\n",
    "\n",
    "df_krx.columns = ['Name','기업코드']\n",
    "df_krx"
   ]
  },
  {
   "cell_type": "markdown",
   "id": "a50bf6d1",
   "metadata": {},
   "source": [
    "## 2.4 KRX 정보데이터시스템 데이터에 기업코드 넣기"
   ]
  },
  {
   "cell_type": "code",
   "execution_count": 97,
   "id": "a29da7ee",
   "metadata": {
    "ExecuteTime": {
     "end_time": "2023-01-28T08:09:44.797432Z",
     "start_time": "2023-01-28T08:09:44.782925Z"
    }
   },
   "outputs": [
    {
     "data": {
      "text/html": [
       "<div>\n",
       "<style scoped>\n",
       "    .dataframe tbody tr th:only-of-type {\n",
       "        vertical-align: middle;\n",
       "    }\n",
       "\n",
       "    .dataframe tbody tr th {\n",
       "        vertical-align: top;\n",
       "    }\n",
       "\n",
       "    .dataframe thead th {\n",
       "        text-align: right;\n",
       "    }\n",
       "</style>\n",
       "<table border=\"1\" class=\"dataframe\">\n",
       "  <thead>\n",
       "    <tr style=\"text-align: right;\">\n",
       "      <th></th>\n",
       "      <th>기업명</th>\n",
       "      <th>기업코드</th>\n",
       "      <th>ESG등급</th>\n",
       "      <th>환경</th>\n",
       "      <th>사회</th>\n",
       "      <th>지배구조</th>\n",
       "      <th>평가년도</th>\n",
       "    </tr>\n",
       "  </thead>\n",
       "  <tbody>\n",
       "    <tr>\n",
       "      <th>0</th>\n",
       "      <td>서울도시가스</td>\n",
       "      <td>NaN</td>\n",
       "      <td>B이하</td>\n",
       "      <td>B</td>\n",
       "      <td>B이하</td>\n",
       "      <td>B이하</td>\n",
       "      <td>2018</td>\n",
       "    </tr>\n",
       "    <tr>\n",
       "      <th>1</th>\n",
       "      <td>티비에이치글로벌</td>\n",
       "      <td>NaN</td>\n",
       "      <td>B이하</td>\n",
       "      <td>B</td>\n",
       "      <td>B이하</td>\n",
       "      <td>B이하</td>\n",
       "      <td>2018</td>\n",
       "    </tr>\n",
       "  </tbody>\n",
       "</table>\n",
       "</div>"
      ],
      "text/plain": [
       "        기업명 기업코드 ESG등급 환경   사회 지배구조  평가년도\n",
       "0    서울도시가스  NaN   B이하  B  B이하  B이하  2018\n",
       "1  티비에이치글로벌  NaN   B이하  B  B이하  B이하  2018"
      ]
     },
     "execution_count": 97,
     "metadata": {},
     "output_type": "execute_result"
    }
   ],
   "source": [
    "df_1118 = df.merge(df_krx, left_on=\"기업명\", right_on=\"Name\", how=\"left\")\n",
    "df_1118 = df_1118[[\"기업명\", \"기업코드\", \"ESG등급\", \"환경\", \"사회\", \"지배구조\", \"평가년도\"]]\n",
    "df_1118.head(2)"
   ]
  },
  {
   "cell_type": "code",
   "execution_count": 98,
   "id": "cd8497d3",
   "metadata": {
    "ExecuteTime": {
     "end_time": "2023-01-28T08:09:44.812667Z",
     "start_time": "2023-01-28T08:09:44.799871Z"
    }
   },
   "outputs": [
    {
     "data": {
      "text/plain": [
       "(5654, 7)"
      ]
     },
     "execution_count": 98,
     "metadata": {},
     "output_type": "execute_result"
    }
   ],
   "source": [
    "df_1118.shape"
   ]
  },
  {
   "cell_type": "markdown",
   "id": "9b9ebb75",
   "metadata": {},
   "source": [
    "## 2.5 기업코드에 NaN 값이 있으나 그대로 두기로 함.\n",
    "- 기업코드가 NaN값인 기업명 일부를 네이버 증권에서 찾아본 결과, 상장되지 않은 기업이었고\n",
    "- 나중에 KOSPI200 데이터와 합칠 때 NaN 값이 자연스럽게 삭제될 것이라 생각하여\n",
    "> 기업코드의 NaN 값을 그대로 두기로 함!"
   ]
  },
  {
   "cell_type": "code",
   "execution_count": 99,
   "id": "2c4c90e0",
   "metadata": {
    "ExecuteTime": {
     "end_time": "2023-01-28T08:09:44.828056Z",
     "start_time": "2023-01-28T08:09:44.813684Z"
    }
   },
   "outputs": [
    {
     "data": {
      "text/html": [
       "<div>\n",
       "<style scoped>\n",
       "    .dataframe tbody tr th:only-of-type {\n",
       "        vertical-align: middle;\n",
       "    }\n",
       "\n",
       "    .dataframe tbody tr th {\n",
       "        vertical-align: top;\n",
       "    }\n",
       "\n",
       "    .dataframe thead th {\n",
       "        text-align: right;\n",
       "    }\n",
       "</style>\n",
       "<table border=\"1\" class=\"dataframe\">\n",
       "  <thead>\n",
       "    <tr style=\"text-align: right;\">\n",
       "      <th></th>\n",
       "      <th>기업명</th>\n",
       "      <th>기업코드</th>\n",
       "      <th>ESG등급</th>\n",
       "      <th>환경</th>\n",
       "      <th>사회</th>\n",
       "      <th>지배구조</th>\n",
       "      <th>평가년도</th>\n",
       "    </tr>\n",
       "  </thead>\n",
       "  <tbody>\n",
       "    <tr>\n",
       "      <th>0</th>\n",
       "      <td>서울도시가스</td>\n",
       "      <td>NaN</td>\n",
       "      <td>B이하</td>\n",
       "      <td>B</td>\n",
       "      <td>B이하</td>\n",
       "      <td>B이하</td>\n",
       "      <td>2018</td>\n",
       "    </tr>\n",
       "    <tr>\n",
       "      <th>1</th>\n",
       "      <td>티비에이치글로벌</td>\n",
       "      <td>NaN</td>\n",
       "      <td>B이하</td>\n",
       "      <td>B</td>\n",
       "      <td>B이하</td>\n",
       "      <td>B이하</td>\n",
       "      <td>2018</td>\n",
       "    </tr>\n",
       "    <tr>\n",
       "      <th>17</th>\n",
       "      <td>태양금속공업</td>\n",
       "      <td>NaN</td>\n",
       "      <td>B이하</td>\n",
       "      <td>C</td>\n",
       "      <td>B이하</td>\n",
       "      <td>B+</td>\n",
       "      <td>2018</td>\n",
       "    </tr>\n",
       "    <tr>\n",
       "      <th>20</th>\n",
       "      <td>태경화학</td>\n",
       "      <td>NaN</td>\n",
       "      <td>B이하</td>\n",
       "      <td>C</td>\n",
       "      <td>B이하</td>\n",
       "      <td>B이하</td>\n",
       "      <td>2018</td>\n",
       "    </tr>\n",
       "    <tr>\n",
       "      <th>23</th>\n",
       "      <td>포스코</td>\n",
       "      <td>NaN</td>\n",
       "      <td>A</td>\n",
       "      <td>A+</td>\n",
       "      <td>A</td>\n",
       "      <td>A</td>\n",
       "      <td>2018</td>\n",
       "    </tr>\n",
       "    <tr>\n",
       "      <th>...</th>\n",
       "      <td>...</td>\n",
       "      <td>...</td>\n",
       "      <td>...</td>\n",
       "      <td>...</td>\n",
       "      <td>...</td>\n",
       "      <td>...</td>\n",
       "      <td>...</td>\n",
       "    </tr>\n",
       "    <tr>\n",
       "      <th>5630</th>\n",
       "      <td>삼호</td>\n",
       "      <td>NaN</td>\n",
       "      <td>B이하</td>\n",
       "      <td>B</td>\n",
       "      <td>B이하</td>\n",
       "      <td>B이하</td>\n",
       "      <td>2011</td>\n",
       "    </tr>\n",
       "    <tr>\n",
       "      <th>5639</th>\n",
       "      <td>세원셀론텍</td>\n",
       "      <td>NaN</td>\n",
       "      <td>B이하</td>\n",
       "      <td>B</td>\n",
       "      <td>B이하</td>\n",
       "      <td></td>\n",
       "      <td>2011</td>\n",
       "    </tr>\n",
       "    <tr>\n",
       "      <th>5643</th>\n",
       "      <td>세아베스틸</td>\n",
       "      <td>NaN</td>\n",
       "      <td>B이하</td>\n",
       "      <td>B</td>\n",
       "      <td>B이하</td>\n",
       "      <td>B이하</td>\n",
       "      <td>2011</td>\n",
       "    </tr>\n",
       "    <tr>\n",
       "      <th>5645</th>\n",
       "      <td>선진지주</td>\n",
       "      <td>NaN</td>\n",
       "      <td>B이하</td>\n",
       "      <td>C</td>\n",
       "      <td>B이하</td>\n",
       "      <td></td>\n",
       "      <td>2011</td>\n",
       "    </tr>\n",
       "    <tr>\n",
       "      <th>5652</th>\n",
       "      <td>선창산업</td>\n",
       "      <td>NaN</td>\n",
       "      <td>B이하</td>\n",
       "      <td>B</td>\n",
       "      <td>B이하</td>\n",
       "      <td>B이하</td>\n",
       "      <td>2011</td>\n",
       "    </tr>\n",
       "  </tbody>\n",
       "</table>\n",
       "<p>1389 rows × 7 columns</p>\n",
       "</div>"
      ],
      "text/plain": [
       "           기업명 기업코드 ESG등급  환경   사회 지배구조  평가년도\n",
       "0       서울도시가스  NaN   B이하   B  B이하  B이하  2018\n",
       "1     티비에이치글로벌  NaN   B이하   B  B이하  B이하  2018\n",
       "17      태양금속공업  NaN   B이하   C  B이하   B+  2018\n",
       "20        태경화학  NaN   B이하   C  B이하  B이하  2018\n",
       "23         포스코  NaN     A  A+    A    A  2018\n",
       "...        ...  ...   ...  ..  ...  ...   ...\n",
       "5630        삼호  NaN   B이하   B  B이하  B이하  2011\n",
       "5639     세원셀론텍  NaN   B이하   B  B이하       2011\n",
       "5643     세아베스틸  NaN   B이하   B  B이하  B이하  2011\n",
       "5645      선진지주  NaN   B이하   C  B이하       2011\n",
       "5652      선창산업  NaN   B이하   B  B이하  B이하  2011\n",
       "\n",
       "[1389 rows x 7 columns]"
      ]
     },
     "execution_count": 99,
     "metadata": {},
     "output_type": "execute_result"
    }
   ],
   "source": [
    "df_1118[df_1118['기업코드'].isnull()]"
   ]
  },
  {
   "cell_type": "code",
   "execution_count": 100,
   "id": "02536eb7",
   "metadata": {
    "ExecuteTime": {
     "end_time": "2023-01-28T08:09:44.843215Z",
     "start_time": "2023-01-28T08:09:44.829319Z"
    }
   },
   "outputs": [],
   "source": [
    "# df_1118_dn = df_1118.dropna()\n",
    "# 또는 \n",
    "# df_1118_dn = df_1118.dropna(axis=0)"
   ]
  },
  {
   "cell_type": "code",
   "execution_count": 101,
   "id": "eda7be1e",
   "metadata": {
    "ExecuteTime": {
     "end_time": "2023-01-28T08:09:44.859204Z",
     "start_time": "2023-01-28T08:09:44.844724Z"
    }
   },
   "outputs": [],
   "source": [
    "# df_1118_dn"
   ]
  },
  {
   "cell_type": "code",
   "execution_count": 102,
   "id": "b47f7d09",
   "metadata": {
    "ExecuteTime": {
     "end_time": "2023-01-28T08:09:44.875203Z",
     "start_time": "2023-01-28T08:09:44.860226Z"
    }
   },
   "outputs": [],
   "source": [
    "# df_1118_dn.info()"
   ]
  },
  {
   "cell_type": "markdown",
   "id": "53ef7d63",
   "metadata": {},
   "source": [
    "# 3. ESG 기준원(df_esg)과 KRX 정보통신데이터(df_1118) 합치기"
   ]
  },
  {
   "cell_type": "code",
   "execution_count": 103,
   "id": "25a3ec50",
   "metadata": {
    "ExecuteTime": {
     "end_time": "2023-01-28T08:10:00.139156Z",
     "start_time": "2023-01-28T08:10:00.117059Z"
    }
   },
   "outputs": [
    {
     "data": {
      "text/html": [
       "<div>\n",
       "<style scoped>\n",
       "    .dataframe tbody tr th:only-of-type {\n",
       "        vertical-align: middle;\n",
       "    }\n",
       "\n",
       "    .dataframe tbody tr th {\n",
       "        vertical-align: top;\n",
       "    }\n",
       "\n",
       "    .dataframe thead th {\n",
       "        text-align: right;\n",
       "    }\n",
       "</style>\n",
       "<table border=\"1\" class=\"dataframe\">\n",
       "  <thead>\n",
       "    <tr style=\"text-align: right;\">\n",
       "      <th></th>\n",
       "      <th>기업명</th>\n",
       "      <th>기업코드</th>\n",
       "      <th>ESG등급</th>\n",
       "      <th>환경</th>\n",
       "      <th>사회</th>\n",
       "      <th>지배구조</th>\n",
       "      <th>평가년도</th>\n",
       "    </tr>\n",
       "  </thead>\n",
       "  <tbody>\n",
       "    <tr>\n",
       "      <th>0</th>\n",
       "      <td>AJ네트웍스</td>\n",
       "      <td>095570</td>\n",
       "      <td>B+</td>\n",
       "      <td>C</td>\n",
       "      <td>B+</td>\n",
       "      <td>B+</td>\n",
       "      <td>2022</td>\n",
       "    </tr>\n",
       "    <tr>\n",
       "      <th>1</th>\n",
       "      <td>AK홀딩스</td>\n",
       "      <td>006840</td>\n",
       "      <td>B+</td>\n",
       "      <td>B</td>\n",
       "      <td>A</td>\n",
       "      <td>B</td>\n",
       "      <td>2022</td>\n",
       "    </tr>\n",
       "    <tr>\n",
       "      <th>2</th>\n",
       "      <td>AP시스템</td>\n",
       "      <td>265520</td>\n",
       "      <td>D</td>\n",
       "      <td>D</td>\n",
       "      <td>C</td>\n",
       "      <td>C</td>\n",
       "      <td>2022</td>\n",
       "    </tr>\n",
       "    <tr>\n",
       "      <th>3</th>\n",
       "      <td>BGF</td>\n",
       "      <td>027410</td>\n",
       "      <td>B+</td>\n",
       "      <td>A</td>\n",
       "      <td>A+</td>\n",
       "      <td>B</td>\n",
       "      <td>2022</td>\n",
       "    </tr>\n",
       "    <tr>\n",
       "      <th>4</th>\n",
       "      <td>BGF리테일</td>\n",
       "      <td>282330</td>\n",
       "      <td>A</td>\n",
       "      <td>A</td>\n",
       "      <td>A+</td>\n",
       "      <td>A</td>\n",
       "      <td>2022</td>\n",
       "    </tr>\n",
       "    <tr>\n",
       "      <th>...</th>\n",
       "      <td>...</td>\n",
       "      <td>...</td>\n",
       "      <td>...</td>\n",
       "      <td>...</td>\n",
       "      <td>...</td>\n",
       "      <td>...</td>\n",
       "      <td>...</td>\n",
       "    </tr>\n",
       "    <tr>\n",
       "      <th>6654</th>\n",
       "      <td>성신양회</td>\n",
       "      <td>004980</td>\n",
       "      <td>B이하</td>\n",
       "      <td>B+</td>\n",
       "      <td>B이하</td>\n",
       "      <td>B이하</td>\n",
       "      <td>2011</td>\n",
       "    </tr>\n",
       "    <tr>\n",
       "      <th>6655</th>\n",
       "      <td>성보화학</td>\n",
       "      <td>003080</td>\n",
       "      <td></td>\n",
       "      <td>B</td>\n",
       "      <td></td>\n",
       "      <td></td>\n",
       "      <td>2011</td>\n",
       "    </tr>\n",
       "    <tr>\n",
       "      <th>6656</th>\n",
       "      <td>성문전자</td>\n",
       "      <td>014910</td>\n",
       "      <td>B이하</td>\n",
       "      <td>C</td>\n",
       "      <td>B이하</td>\n",
       "      <td>B이하</td>\n",
       "      <td>2011</td>\n",
       "    </tr>\n",
       "    <tr>\n",
       "      <th>6657</th>\n",
       "      <td>선창산업</td>\n",
       "      <td>NaN</td>\n",
       "      <td>B이하</td>\n",
       "      <td>B</td>\n",
       "      <td>B이하</td>\n",
       "      <td>B이하</td>\n",
       "      <td>2011</td>\n",
       "    </tr>\n",
       "    <tr>\n",
       "      <th>6658</th>\n",
       "      <td>AK홀딩스</td>\n",
       "      <td>006840</td>\n",
       "      <td>B이하</td>\n",
       "      <td>B</td>\n",
       "      <td>B이하</td>\n",
       "      <td>B이하</td>\n",
       "      <td>2011</td>\n",
       "    </tr>\n",
       "  </tbody>\n",
       "</table>\n",
       "<p>6659 rows × 7 columns</p>\n",
       "</div>"
      ],
      "text/plain": [
       "         기업명    기업코드 ESG등급  환경   사회 지배구조  평가년도\n",
       "0     AJ네트웍스  095570    B+   C   B+   B+  2022\n",
       "1      AK홀딩스  006840    B+   B    A    B  2022\n",
       "2      AP시스템  265520     D   D    C    C  2022\n",
       "3        BGF  027410    B+   A   A+    B  2022\n",
       "4     BGF리테일  282330     A   A   A+    A  2022\n",
       "...      ...     ...   ...  ..  ...  ...   ...\n",
       "6654    성신양회  004980   B이하  B+  B이하  B이하  2011\n",
       "6655    성보화학  003080         B            2011\n",
       "6656    성문전자  014910   B이하   C  B이하  B이하  2011\n",
       "6657    선창산업     NaN   B이하   B  B이하  B이하  2011\n",
       "6658   AK홀딩스  006840   B이하   B  B이하  B이하  2011\n",
       "\n",
       "[6659 rows x 7 columns]"
      ]
     },
     "execution_count": 103,
     "metadata": {},
     "output_type": "execute_result"
    }
   ],
   "source": [
    "esg_total = pd.concat([df_esg, df_1118])\n",
    "esg_total = esg_total.reset_index(drop=True)\n",
    "esg_total"
   ]
  },
  {
   "cell_type": "markdown",
   "id": "c7f285da",
   "metadata": {},
   "source": [
    "## 3.1 완성된 ESG 데이터를 csv 파일로 저장"
   ]
  },
  {
   "cell_type": "code",
   "execution_count": 104,
   "id": "1de2d2c4",
   "metadata": {
    "ExecuteTime": {
     "end_time": "2023-01-28T08:10:09.758093Z",
     "start_time": "2023-01-28T08:10:09.736589Z"
    }
   },
   "outputs": [],
   "source": [
    "esg_total.to_csv(\"../../data/ESG_Rating.csv\", index=False)"
   ]
  },
  {
   "cell_type": "code",
   "execution_count": 105,
   "id": "a80cf969",
   "metadata": {
    "ExecuteTime": {
     "end_time": "2023-01-28T08:10:11.250794Z",
     "start_time": "2023-01-28T08:10:11.217682Z"
    }
   },
   "outputs": [
    {
     "data": {
      "text/html": [
       "<div>\n",
       "<style scoped>\n",
       "    .dataframe tbody tr th:only-of-type {\n",
       "        vertical-align: middle;\n",
       "    }\n",
       "\n",
       "    .dataframe tbody tr th {\n",
       "        vertical-align: top;\n",
       "    }\n",
       "\n",
       "    .dataframe thead th {\n",
       "        text-align: right;\n",
       "    }\n",
       "</style>\n",
       "<table border=\"1\" class=\"dataframe\">\n",
       "  <thead>\n",
       "    <tr style=\"text-align: right;\">\n",
       "      <th></th>\n",
       "      <th>기업명</th>\n",
       "      <th>기업코드</th>\n",
       "      <th>ESG등급</th>\n",
       "      <th>환경</th>\n",
       "      <th>사회</th>\n",
       "      <th>지배구조</th>\n",
       "      <th>평가년도</th>\n",
       "    </tr>\n",
       "  </thead>\n",
       "  <tbody>\n",
       "    <tr>\n",
       "      <th>0</th>\n",
       "      <td>AJ네트웍스</td>\n",
       "      <td>95570.0</td>\n",
       "      <td>B+</td>\n",
       "      <td>C</td>\n",
       "      <td>B+</td>\n",
       "      <td>B+</td>\n",
       "      <td>2022</td>\n",
       "    </tr>\n",
       "    <tr>\n",
       "      <th>1</th>\n",
       "      <td>AK홀딩스</td>\n",
       "      <td>6840.0</td>\n",
       "      <td>B+</td>\n",
       "      <td>B</td>\n",
       "      <td>A</td>\n",
       "      <td>B</td>\n",
       "      <td>2022</td>\n",
       "    </tr>\n",
       "    <tr>\n",
       "      <th>2</th>\n",
       "      <td>AP시스템</td>\n",
       "      <td>265520.0</td>\n",
       "      <td>D</td>\n",
       "      <td>D</td>\n",
       "      <td>C</td>\n",
       "      <td>C</td>\n",
       "      <td>2022</td>\n",
       "    </tr>\n",
       "    <tr>\n",
       "      <th>3</th>\n",
       "      <td>BGF</td>\n",
       "      <td>27410.0</td>\n",
       "      <td>B+</td>\n",
       "      <td>A</td>\n",
       "      <td>A+</td>\n",
       "      <td>B</td>\n",
       "      <td>2022</td>\n",
       "    </tr>\n",
       "    <tr>\n",
       "      <th>4</th>\n",
       "      <td>BGF리테일</td>\n",
       "      <td>282330.0</td>\n",
       "      <td>A</td>\n",
       "      <td>A</td>\n",
       "      <td>A+</td>\n",
       "      <td>A</td>\n",
       "      <td>2022</td>\n",
       "    </tr>\n",
       "    <tr>\n",
       "      <th>...</th>\n",
       "      <td>...</td>\n",
       "      <td>...</td>\n",
       "      <td>...</td>\n",
       "      <td>...</td>\n",
       "      <td>...</td>\n",
       "      <td>...</td>\n",
       "      <td>...</td>\n",
       "    </tr>\n",
       "    <tr>\n",
       "      <th>6654</th>\n",
       "      <td>성신양회</td>\n",
       "      <td>4980.0</td>\n",
       "      <td>B이하</td>\n",
       "      <td>B+</td>\n",
       "      <td>B이하</td>\n",
       "      <td>B이하</td>\n",
       "      <td>2011</td>\n",
       "    </tr>\n",
       "    <tr>\n",
       "      <th>6655</th>\n",
       "      <td>성보화학</td>\n",
       "      <td>3080.0</td>\n",
       "      <td>NaN</td>\n",
       "      <td>B</td>\n",
       "      <td>NaN</td>\n",
       "      <td>NaN</td>\n",
       "      <td>2011</td>\n",
       "    </tr>\n",
       "    <tr>\n",
       "      <th>6656</th>\n",
       "      <td>성문전자</td>\n",
       "      <td>14910.0</td>\n",
       "      <td>B이하</td>\n",
       "      <td>C</td>\n",
       "      <td>B이하</td>\n",
       "      <td>B이하</td>\n",
       "      <td>2011</td>\n",
       "    </tr>\n",
       "    <tr>\n",
       "      <th>6657</th>\n",
       "      <td>선창산업</td>\n",
       "      <td>NaN</td>\n",
       "      <td>B이하</td>\n",
       "      <td>B</td>\n",
       "      <td>B이하</td>\n",
       "      <td>B이하</td>\n",
       "      <td>2011</td>\n",
       "    </tr>\n",
       "    <tr>\n",
       "      <th>6658</th>\n",
       "      <td>AK홀딩스</td>\n",
       "      <td>6840.0</td>\n",
       "      <td>B이하</td>\n",
       "      <td>B</td>\n",
       "      <td>B이하</td>\n",
       "      <td>B이하</td>\n",
       "      <td>2011</td>\n",
       "    </tr>\n",
       "  </tbody>\n",
       "</table>\n",
       "<p>6659 rows × 7 columns</p>\n",
       "</div>"
      ],
      "text/plain": [
       "         기업명      기업코드 ESG등급  환경   사회 지배구조  평가년도\n",
       "0     AJ네트웍스   95570.0    B+   C   B+   B+  2022\n",
       "1      AK홀딩스    6840.0    B+   B    A    B  2022\n",
       "2      AP시스템  265520.0     D   D    C    C  2022\n",
       "3        BGF   27410.0    B+   A   A+    B  2022\n",
       "4     BGF리테일  282330.0     A   A   A+    A  2022\n",
       "...      ...       ...   ...  ..  ...  ...   ...\n",
       "6654    성신양회    4980.0   B이하  B+  B이하  B이하  2011\n",
       "6655    성보화학    3080.0   NaN   B  NaN  NaN  2011\n",
       "6656    성문전자   14910.0   B이하   C  B이하  B이하  2011\n",
       "6657    선창산업       NaN   B이하   B  B이하  B이하  2011\n",
       "6658   AK홀딩스    6840.0   B이하   B  B이하  B이하  2011\n",
       "\n",
       "[6659 rows x 7 columns]"
      ]
     },
     "execution_count": 105,
     "metadata": {},
     "output_type": "execute_result"
    }
   ],
   "source": [
    "pd.read_csv(\"../../data/ESG_Rating.csv\")"
   ]
  },
  {
   "cell_type": "code",
   "execution_count": null,
   "id": "c3abeb9f",
   "metadata": {},
   "outputs": [],
   "source": []
  }
 ],
 "metadata": {
  "kernelspec": {
   "display_name": "asd",
   "language": "python",
   "name": "python3"
  },
  "language_info": {
   "codemirror_mode": {
    "name": "ipython",
    "version": 3
   },
   "file_extension": ".py",
   "mimetype": "text/x-python",
   "name": "python",
   "nbconvert_exporter": "python",
   "pygments_lexer": "ipython3",
   "version": "3.9.15 | packaged by conda-forge | (main, Nov 22 2022, 08:39:05) [MSC v.1929 64 bit (AMD64)]"
  },
  "toc": {
   "base_numbering": 1,
   "nav_menu": {},
   "number_sections": false,
   "sideBar": true,
   "skip_h1_title": false,
   "title_cell": "Table of Contents",
   "title_sidebar": "Contents",
   "toc_cell": false,
   "toc_position": {
    "height": "calc(100% - 180px)",
    "left": "10px",
    "top": "150px",
    "width": "248.594px"
   },
   "toc_section_display": true,
   "toc_window_display": true
  },
  "vscode": {
   "interpreter": {
    "hash": "1484e195d7bc9430bc3da72ea3c1b8c4a4682e4fe56bdbad8b3e1217f2a75f76"
   }
  }
 },
 "nbformat": 4,
 "nbformat_minor": 5
}
