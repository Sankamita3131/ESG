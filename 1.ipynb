{
 "cells": [
  {
   "cell_type": "code",
   "execution_count": 1,
   "metadata": {},
   "outputs": [],
   "source": [
    "import numpy as np\n",
    "import pandas as pd\n",
    "\n",
    "df = pd.read_csv(\"./data\\KOSPI200_ESGrate.csv\")"
   ]
  },
  {
   "cell_type": "code",
   "execution_count": 10,
   "metadata": {},
   "outputs": [
    {
     "name": "stdout",
     "output_type": "stream",
     "text": [
      "\n",
      "{'일자': '일자', '시가': '시가', '고가': '고가', '저가': '저가', '종가': '종가', '거래량': '거래량', '등락률': '등락률', '종목코드': '종목코드', '종목명_x': '종목명', '연도월': '연도월', '연도': '연도', 'ESG등급': 'ESG_종합', '환경': 'ESG_환경', '사회': 'ESG_사회', '지배구조': 'ESG_지배구조', 'ESG등급_ca': 'ESG_종합_num', '환경_ca': 'ESG_환경_num', '사회_ca': 'ESG_사회_num', '지배구조_ca': 'ESG_지배구조_num'}\n"
     ]
    }
   ],
   "source": [
    "dict = {}\n",
    "li = [\"일자\", '시가', '고가', '저가', '종가', \"거래량\", \"등락률\", \"종목코드\", \"종목명\", \"연도월\", \"연도\",\n",
    "      \"ESG_종합\", \"ESG_환경\", \"ESG_사회\", \"ESG_지배구조\", \n",
    "      \"ESG_종합_num\", \"ESG_환경_num\", \"ESG_사회_num\", \"ESG_지배구조_num\"]\n",
    "print()\n",
    "for k, v in zip(df.columns, li):\n",
    "    dict[k] = v\n",
    "print(dict)\n",
    "\n",
    "\n",
    "# 일자,시가,고가,저가,종가,거래량,등락률,종목코드,종목명_x,연도월,연도,ESG등급,환경,사회,지배구조,ESG등급_ca,환경_ca,사회_ca,지배구조_ca"
   ]
  },
  {
   "cell_type": "code",
   "execution_count": 14,
   "metadata": {},
   "outputs": [],
   "source": [
    "li = ['일자', '종목코드', '종목명', '종가', '시가', '고가', '저가', '등락률', '거래량',\n",
    "       'ESG_종합', 'ESG_환경', 'ESG_사회', 'ESG_지배구조', 'ESG_종합_num', 'ESG_환경_num',\n",
    "       'ESG_사회_num', 'ESG_지배구조_num', '연도월', '연도']\n",
    "df = df[li]"
   ]
  },
  {
   "cell_type": "code",
   "execution_count": 13,
   "metadata": {},
   "outputs": [
    {
     "data": {
      "text/plain": [
       "Index(['일자', '시가', '고가', '저가', '종가', '거래량', '등락률', '종목코드', '종목명', '연도월', '연도',\n",
       "       'ESG_종합', 'ESG_환경', 'ESG_사회', 'ESG_지배구조', 'ESG_종합_num', 'ESG_환경_num',\n",
       "       'ESG_사회_num', 'ESG_지배구조_num'],\n",
       "      dtype='object')"
      ]
     },
     "execution_count": 13,
     "metadata": {},
     "output_type": "execute_result"
    }
   ],
   "source": [
    "df.columns\n",
    "['일자', '시가', '고가', '저가', '종가', '거래량', '등락률', '종목코드', '종목명', '연도월', '연도',\n",
    "       'ESG_종합', 'ESG_환경', 'ESG_사회', 'ESG_지배구조', 'ESG_종합_num', 'ESG_환경_num',\n",
    "       'ESG_사회_num', 'ESG_지배구조_num']"
   ]
  },
  {
   "cell_type": "code",
   "execution_count": 16,
   "metadata": {},
   "outputs": [],
   "source": [
    "df.to_csv(\"./data\\KOSPI200_ESGrate.csv\", index=False, encoding=\"utf-8\")"
   ]
  },
  {
   "cell_type": "code",
   "execution_count": 17,
   "metadata": {},
   "outputs": [],
   "source": [
    "df.to_parquet(\"./data\\KOSPI200_ESGrate.gzip\", index=False)"
   ]
  },
  {
   "cell_type": "code",
   "execution_count": null,
   "metadata": {},
   "outputs": [],
   "source": []
  }
 ],
 "metadata": {
  "kernelspec": {
   "display_name": "Python 3.9.13 ('AIS7')",
   "language": "python",
   "name": "python3"
  },
  "language_info": {
   "codemirror_mode": {
    "name": "ipython",
    "version": 3
   },
   "file_extension": ".py",
   "mimetype": "text/x-python",
   "name": "python",
   "nbconvert_exporter": "python",
   "pygments_lexer": "ipython3",
   "version": "3.9.13"
  },
  "orig_nbformat": 4,
  "vscode": {
   "interpreter": {
    "hash": "6fe11dfc63e789712f819f0eab04a3070dc82d637138faaf6adf8e594ab8007f"
   }
  }
 },
 "nbformat": 4,
 "nbformat_minor": 2
}
