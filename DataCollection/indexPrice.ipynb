{
 "cells": [
  {
   "attachments": {},
   "cell_type": "markdown",
   "metadata": {},
   "source": [
    "# ```KRX_indexPrice.ipynb```"
   ]
  },
  {
   "attachments": {},
   "cell_type": "markdown",
   "metadata": {},
   "source": [
    "# import"
   ]
  },
  {
   "cell_type": "code",
   "execution_count": 1,
   "metadata": {},
   "outputs": [
    {
     "name": "stdout",
     "output_type": "stream",
     "text": [
      "data_path : ../data/\n",
      "fp\n",
      "{'esgRating': '../data/esgRating.parquet',\n",
      " 'finaStat': '../data/finaStat.parquet',\n",
      " 'stockPrice': '../data/stockPrice.parquet',\n",
      " 'stockPrice_year': '../data/stockPrice_year.parquet'}\n"
     ]
    }
   ],
   "source": [
    "import os\n",
    "import sys\n",
    "import time\n",
    "import pickle\n",
    "import warnings\n",
    "import urllib.request\n",
    "from glob import glob\n",
    "\n",
    "import numpy as np\n",
    "import pandas as pd\n",
    "import matplotlib.pyplot as plt\n",
    "import seaborn as sns\n",
    "import koreanize_matplotlib\n",
    "import requests\n",
    "from bs4 import BeautifulSoup as bs\n",
    "\n",
    "import FinanceDataReader as fdr\n",
    "from tqdm import tqdm\n",
    "\n",
    "\n",
    "warnings.filterwarnings('ignore')\n",
    "pd.options.display.max_columns = None\n",
    "# pd.options.display.float_format = '{:.4f}'.format\n",
    "plt.style.use(\"ggplot\")\n",
    "%config InlineBackend.figure_format = 'retina'\n",
    "\n",
    "\n",
    "sys.path.append(\"../import\")\n",
    "import module as m\n",
    "\n",
    "data_path = m.data_path"
   ]
  },
  {
   "attachments": {},
   "cell_type": "markdown",
   "metadata": {},
   "source": [
    "# KRX_KOSPI200_indexPrice\n",
    "  - 개요\n",
    "    - 2011-01-03~2022-09-30\n",
    "    - KRX KOSPI200 지수 가격 데이터\n",
    "  - Data Source\n",
    "    - [KRX_정보데이터시스템](http://data.krx.co.kr/contents/MDC/MDI/mdiLoader/index.cmd?menuId=MDC0201010105)"
   ]
  },
  {
   "attachments": {},
   "cell_type": "markdown",
   "metadata": {},
   "source": [
    "# KRX_KOSPI200ESG_indexPrice\n",
    "  - 개요\n",
    "    - 2011-01-03~2022-09-30\n",
    "    - KRX KOSPI200ESG 지수 가격 데이터\n",
    "  - Data Source\n",
    "    - [KRX_정보데이터시스템](http://data.krx.co.kr/contents/MDC/MDI/mdiLoader/index.cmd?menuId=MDC0201010105&idxCd=1&idxCd2=180)"
   ]
  }
 ],
 "metadata": {
  "kernelspec": {
   "display_name": "asd",
   "language": "python",
   "name": "python3"
  },
  "language_info": {
   "codemirror_mode": {
    "name": "ipython",
    "version": 3
   },
   "file_extension": ".py",
   "mimetype": "text/x-python",
   "name": "python",
   "nbconvert_exporter": "python",
   "pygments_lexer": "ipython3",
   "version": "3.9.15"
  },
  "orig_nbformat": 4,
  "vscode": {
   "interpreter": {
    "hash": "1484e195d7bc9430bc3da72ea3c1b8c4a4682e4fe56bdbad8b3e1217f2a75f76"
   }
  }
 },
 "nbformat": 4,
 "nbformat_minor": 2
}
