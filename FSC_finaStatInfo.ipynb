{
 "cells": [
  {
   "attachments": {},
   "cell_type": "markdown",
   "metadata": {},
   "source": [
    "# **데이터 수집 : 코스피 개별 종목의 종목 코드로 재무정보 가져오기**\n",
    "종목코드 -> 고유번호 -> 법인등록번호 -> 재무정보\n",
    "1. '금융감독원_고유번호'를 통해 '종목 코드'로 '고유번호' 가져오기\n",
    "    - [**금융감독원_고유번호**](https://opendart.fss.or.kr/guide/detail.do?apiGrpCd=DS001&apiId=2019018)\n",
    "2. '금융감독원_공시정보_기업개황'에서 '고유번호'로 '법인등록번호' 가져오기\n",
    "    - [**금융감독원_공시정보_기업개황**](https://opendart.fss.or.kr/guide/detail.do?apiGrpCd=DS001&apiId=2019002)\n",
    "    - KOSPI200 기업 목록 활용\n",
    "3. 가져온 '법인등록번호'으로 재무정보 가져오기\n",
    "    - [**금융위원회_기업 재무정보**](https://www.data.go.kr/tcs/dss/selectApiDataDetailView.do?publicDataPk=15043459)\n",
    "---\n",
    "- [DART](https://dart.fss.or.kr/main.do) : 금융감독원에서 운영하는 기업정보전자공시시스템\n",
    "- FSC : 금융위원회"
   ]
  },
  {
   "cell_type": "code",
   "execution_count": 19,
   "metadata": {},
   "outputs": [],
   "source": [
    "import json\n",
    "import os\n",
    "import sys\n",
    "from glob import glob\n",
    "from io import BytesIO\n",
    "from zipfile import ZipFile\n",
    "import time\n",
    "\n",
    "import numpy as np\n",
    "import pandas as pd\n",
    "import requests\n",
    "import xmltodict\n",
    "from bs4 import BeautifulSoup\n",
    "\n",
    "sys.path.append(\"../package\")\n",
    "\n",
    "\n",
    "import gitig_auth\n",
    "import project_module as pmod\n",
    "import project_variable as pvar\n",
    "data = os.path.relpath(pvar.dir[\"data\"])"
   ]
  },
  {
   "attachments": {},
   "cell_type": "markdown",
   "metadata": {},
   "source": [
    "# 종목코드 -> 고유번호\n",
    "1. '금융감독원_고유번호'를 통해 '종목 코드'로 '고유번호' 가져오기\n",
    "    - [**금융감독원_고유번호**](https://opendart.fss.or.kr/guide/detail.do?apiGrpCd=DS001&apiId=2019018)"
   ]
  },
  {
   "cell_type": "code",
   "execution_count": 20,
   "metadata": {},
   "outputs": [
    {
     "data": {
      "text/html": [
       "<div>\n",
       "<style scoped>\n",
       "    .dataframe tbody tr th:only-of-type {\n",
       "        vertical-align: middle;\n",
       "    }\n",
       "\n",
       "    .dataframe tbody tr th {\n",
       "        vertical-align: top;\n",
       "    }\n",
       "\n",
       "    .dataframe thead th {\n",
       "        text-align: right;\n",
       "    }\n",
       "</style>\n",
       "<table border=\"1\" class=\"dataframe\">\n",
       "  <thead>\n",
       "    <tr style=\"text-align: right;\">\n",
       "      <th></th>\n",
       "      <th>corp_code</th>\n",
       "      <th>corp_name</th>\n",
       "      <th>stock_code</th>\n",
       "      <th>modify_date</th>\n",
       "    </tr>\n",
       "  </thead>\n",
       "  <tbody>\n",
       "    <tr>\n",
       "      <th>0</th>\n",
       "      <td>434003</td>\n",
       "      <td>다코</td>\n",
       "      <td>NaN</td>\n",
       "      <td>20170630</td>\n",
       "    </tr>\n",
       "    <tr>\n",
       "      <th>1</th>\n",
       "      <td>434456</td>\n",
       "      <td>일산약품</td>\n",
       "      <td>NaN</td>\n",
       "      <td>20170630</td>\n",
       "    </tr>\n",
       "    <tr>\n",
       "      <th>2</th>\n",
       "      <td>430964</td>\n",
       "      <td>굿앤엘에스</td>\n",
       "      <td>NaN</td>\n",
       "      <td>20170630</td>\n",
       "    </tr>\n",
       "    <tr>\n",
       "      <th>3</th>\n",
       "      <td>432403</td>\n",
       "      <td>한라판지</td>\n",
       "      <td>NaN</td>\n",
       "      <td>20170630</td>\n",
       "    </tr>\n",
       "    <tr>\n",
       "      <th>4</th>\n",
       "      <td>388953</td>\n",
       "      <td>크레디피아제이십오차유동화전문회사</td>\n",
       "      <td>NaN</td>\n",
       "      <td>20170630</td>\n",
       "    </tr>\n",
       "  </tbody>\n",
       "</table>\n",
       "</div>"
      ],
      "text/plain": [
       "   corp_code          corp_name  stock_code  modify_date\n",
       "0     434003                 다코         NaN     20170630\n",
       "1     434456               일산약품         NaN     20170630\n",
       "2     430964              굿앤엘에스         NaN     20170630\n",
       "3     432403               한라판지         NaN     20170630\n",
       "4     388953  크레디피아제이십오차유동화전문회사         NaN     20170630"
      ]
     },
     "execution_count": 20,
     "metadata": {},
     "output_type": "execute_result"
    }
   ],
   "source": [
    "# API로 데이터 가져와서 pandas.DataFrame으로 변환 => df_cc (cc:corp_code)\n",
    "auth_key = gitig_auth.auth_key_dict[\"dart\"]\n",
    "url = f\"https://opendart.fss.or.kr/api/corpCode.xml?crtfc_key={auth_key}\"\n",
    "response = requests.get(url)\n",
    "\n",
    "with ZipFile(BytesIO(response.content)) as df_cc:\n",
    "    df_cc = df_cc.read(\"CORPCODE.xml\")\n",
    "    df_cc = pd.read_xml(df_cc)\n",
    "\n",
    "df_cc.head()"
   ]
  },
  {
   "cell_type": "code",
   "execution_count": 27,
   "metadata": {},
   "outputs": [
    {
     "data": {
      "text/html": [
       "<div>\n",
       "<style scoped>\n",
       "    .dataframe tbody tr th:only-of-type {\n",
       "        vertical-align: middle;\n",
       "    }\n",
       "\n",
       "    .dataframe tbody tr th {\n",
       "        vertical-align: top;\n",
       "    }\n",
       "\n",
       "    .dataframe thead th {\n",
       "        text-align: right;\n",
       "    }\n",
       "</style>\n",
       "<table border=\"1\" class=\"dataframe\">\n",
       "  <thead>\n",
       "    <tr style=\"text-align: right;\">\n",
       "      <th></th>\n",
       "      <th>stock_code</th>\n",
       "      <th>corp_code</th>\n",
       "      <th>jurir_no</th>\n",
       "      <th>corp_name</th>\n",
       "    </tr>\n",
       "  </thead>\n",
       "  <tbody>\n",
       "    <tr>\n",
       "      <th>2009</th>\n",
       "      <td>36720.0</td>\n",
       "      <td>00260985</td>\n",
       "      <td>None</td>\n",
       "      <td>한빛네트</td>\n",
       "    </tr>\n",
       "    <tr>\n",
       "      <th>2021</th>\n",
       "      <td>40130.0</td>\n",
       "      <td>00264529</td>\n",
       "      <td>None</td>\n",
       "      <td>엔플렉스</td>\n",
       "    </tr>\n",
       "    <tr>\n",
       "      <th>2022</th>\n",
       "      <td>55000.0</td>\n",
       "      <td>00358545</td>\n",
       "      <td>None</td>\n",
       "      <td>동서정보기술</td>\n",
       "    </tr>\n",
       "    <tr>\n",
       "      <th>2784</th>\n",
       "      <td>32600.0</td>\n",
       "      <td>00231567</td>\n",
       "      <td>None</td>\n",
       "      <td>애드모바일</td>\n",
       "    </tr>\n",
       "    <tr>\n",
       "      <th>3889</th>\n",
       "      <td>37600.0</td>\n",
       "      <td>00247939</td>\n",
       "      <td>None</td>\n",
       "      <td>씨모스</td>\n",
       "    </tr>\n",
       "  </tbody>\n",
       "</table>\n",
       "</div>"
      ],
      "text/plain": [
       "     stock_code corp_code jurir_no corp_name\n",
       "2009    36720.0  00260985     None      한빛네트\n",
       "2021    40130.0  00264529     None      엔플렉스\n",
       "2022    55000.0  00358545     None    동서정보기술\n",
       "2784    32600.0  00231567     None     애드모바일\n",
       "3889    37600.0  00247939     None       씨모스"
      ]
     },
     "execution_count": 27,
     "metadata": {},
     "output_type": "execute_result"
    }
   ],
   "source": [
    "df_cc = df_cc.dropna(subset=[\"stock_code\"])\n",
    "df_cc[\"corp_code\"] = df_cc[\"corp_code\"].astype(str).apply(lambda x: x.zfill(8))\n",
    "df_cc[\"stock_code\"] = df_cc[\"stock_code\"].astype(str).apply(lambda x: x.zfill(6))\n",
    "df_cc[\"jurir_no\"] = None\n",
    "df_cc = df_cc[[\"stock_code\", \"corp_code\", \"jurir_no\", \"corp_name\"]]\n",
    "df_cc.head()"
   ]
  },
  {
   "attachments": {},
   "cell_type": "markdown",
   "metadata": {},
   "source": [
    "# 고유번호 -> 법인등록번호\n",
    "2. '금융감독원_공시정보_기업개황'에서 '고유번호'로 '법인등록번호' 가져오기\n",
    "    - [**금융감독원_공시정보_기업개황**](https://opendart.fss.or.kr/guide/detail.do?apiGrpCd=DS001&apiId=2019002)\n",
    "    - KOSPI200 기업 목록 활용"
   ]
  },
  {
   "cell_type": "code",
   "execution_count": 24,
   "metadata": {},
   "outputs": [],
   "source": [
    "# 종목코드 -> 고유번호\n",
    "def stockCode_to_corpCode(df, stock_code):\n",
    "    return df[df[\"stock_code\"] == stock_code][\"corp_code\"].values\n",
    "\n",
    "\n",
    "# 고유번호 -> 법인등록번호\n",
    "def corpCode_to_jurirNo(\n",
    "    corp_code,\n",
    "    auth_key=\"76dd702fe016b819f3e728f9a63b3b13eadaaeb4\",\n",
    "    url=\"https://opendart.fss.or.kr/api/company.json\",\n",
    "):\n",
    "    params = {\"crtfc_key\": auth_key, \"corp_code\": corp_code}\n",
    "\n",
    "    response = requests.get(url, params=params)\n",
    "    if response.status_code == 200:\n",
    "        return response.json()[\"jurir_no\"]\n",
    "        df.loc[\n",
    "            df[\"corp_code\"] == stockCode_to_corpCode(df, stock_code), \"jurir_no\"\n",
    "        ] = corpCode_to_jurirNo(stockCode_to_corpCode(df, stock_code))\n",
    "\n",
    "    else:\n",
    "        print(response.status_code)\n",
    "    time.sleep(0.3)"
   ]
  },
  {
   "cell_type": "code",
   "execution_count": 9,
   "metadata": {},
   "outputs": [
    {
     "ename": "KeyError",
     "evalue": "'jurir_no'",
     "output_type": "error",
     "traceback": [
      "\u001b[1;31m---------------------------------------------------------------------------\u001b[0m",
      "\u001b[1;31mKeyError\u001b[0m                                  Traceback (most recent call last)",
      "\u001b[1;32m~\\AppData\\Local\\Temp\\ipykernel_28604\\4281187063.py\u001b[0m in \u001b[0;36m<module>\u001b[1;34m\u001b[0m\n\u001b[0;32m      5\u001b[0m \u001b[0mtmp\u001b[0m \u001b[1;33m=\u001b[0m \u001b[0mdf_ksp\u001b[0m\u001b[1;33m[\u001b[0m\u001b[1;34m\"종목코드\"\u001b[0m\u001b[1;33m]\u001b[0m\u001b[1;33m.\u001b[0m\u001b[0mto_list\u001b[0m\u001b[1;33m(\u001b[0m\u001b[1;33m)\u001b[0m\u001b[1;33m\u001b[0m\u001b[1;33m\u001b[0m\u001b[0m\n\u001b[0;32m      6\u001b[0m \u001b[1;32mfor\u001b[0m \u001b[0mstock_code\u001b[0m \u001b[1;32min\u001b[0m \u001b[0mtmp\u001b[0m\u001b[1;33m:\u001b[0m\u001b[1;33m\u001b[0m\u001b[1;33m\u001b[0m\u001b[0m\n\u001b[1;32m----> 7\u001b[1;33m     \u001b[0mdf_cc\u001b[0m\u001b[1;33m.\u001b[0m\u001b[0mloc\u001b[0m\u001b[1;33m[\u001b[0m\u001b[0mdf_cc\u001b[0m\u001b[1;33m[\u001b[0m\u001b[1;34m'corp_code'\u001b[0m\u001b[1;33m]\u001b[0m \u001b[1;33m==\u001b[0m \u001b[0mstockCode_to_corpCode\u001b[0m\u001b[1;33m(\u001b[0m\u001b[0mdf_cc\u001b[0m\u001b[1;33m,\u001b[0m \u001b[0mstock_code\u001b[0m\u001b[1;33m)\u001b[0m\u001b[1;33m,\u001b[0m \u001b[1;34m'jurir_no'\u001b[0m\u001b[1;33m]\u001b[0m \u001b[1;33m=\u001b[0m \u001b[0mcorpCode_to_jurirNo\u001b[0m\u001b[1;33m(\u001b[0m\u001b[0mstockCode_to_corpCode\u001b[0m\u001b[1;33m(\u001b[0m\u001b[0mdf_cc\u001b[0m\u001b[1;33m,\u001b[0m \u001b[0mstock_code\u001b[0m\u001b[1;33m)\u001b[0m\u001b[1;33m)\u001b[0m\u001b[1;33m\u001b[0m\u001b[1;33m\u001b[0m\u001b[0m\n\u001b[0m\u001b[0;32m      8\u001b[0m \u001b[1;33m\u001b[0m\u001b[0m\n\u001b[0;32m      9\u001b[0m \u001b[1;33m\u001b[0m\u001b[0m\n",
      "\u001b[1;32m~\\AppData\\Local\\Temp\\ipykernel_28604\\2532957096.py\u001b[0m in \u001b[0;36mcorpCode_to_jurirNo\u001b[1;34m(corp_code, auth_key, url)\u001b[0m\n\u001b[0;32m     14\u001b[0m     \u001b[0mresponse\u001b[0m \u001b[1;33m=\u001b[0m \u001b[0mrequests\u001b[0m\u001b[1;33m.\u001b[0m\u001b[0mget\u001b[0m\u001b[1;33m(\u001b[0m\u001b[0murl\u001b[0m\u001b[1;33m,\u001b[0m \u001b[0mparams\u001b[0m\u001b[1;33m=\u001b[0m\u001b[0mparams\u001b[0m\u001b[1;33m)\u001b[0m\u001b[1;33m\u001b[0m\u001b[1;33m\u001b[0m\u001b[0m\n\u001b[0;32m     15\u001b[0m     \u001b[1;32mif\u001b[0m \u001b[0mresponse\u001b[0m\u001b[1;33m.\u001b[0m\u001b[0mstatus_code\u001b[0m \u001b[1;33m==\u001b[0m \u001b[1;36m200\u001b[0m\u001b[1;33m:\u001b[0m\u001b[1;33m\u001b[0m\u001b[1;33m\u001b[0m\u001b[0m\n\u001b[1;32m---> 16\u001b[1;33m         \u001b[1;32mreturn\u001b[0m \u001b[0mresponse\u001b[0m\u001b[1;33m.\u001b[0m\u001b[0mjson\u001b[0m\u001b[1;33m(\u001b[0m\u001b[1;33m)\u001b[0m\u001b[1;33m[\u001b[0m\u001b[1;34m\"jurir_no\"\u001b[0m\u001b[1;33m]\u001b[0m\u001b[1;33m\u001b[0m\u001b[1;33m\u001b[0m\u001b[0m\n\u001b[0m\u001b[0;32m     17\u001b[0m         df.loc[\n\u001b[0;32m     18\u001b[0m             \u001b[0mdf\u001b[0m\u001b[1;33m[\u001b[0m\u001b[1;34m\"corp_code\"\u001b[0m\u001b[1;33m]\u001b[0m \u001b[1;33m==\u001b[0m \u001b[0mstockCode_to_corpCode\u001b[0m\u001b[1;33m(\u001b[0m\u001b[0mdf\u001b[0m\u001b[1;33m,\u001b[0m \u001b[0mstock_code\u001b[0m\u001b[1;33m)\u001b[0m\u001b[1;33m,\u001b[0m \u001b[1;34m\"jurir_no\"\u001b[0m\u001b[1;33m\u001b[0m\u001b[1;33m\u001b[0m\u001b[0m\n",
      "\u001b[1;31mKeyError\u001b[0m: 'jurir_no'"
     ]
    }
   ],
   "source": [
    "df_ksp = pd.read_csv(r\"data\\KOSPI200.csv\")\n",
    "df_ksp[\"종목코드\"] = df_ksp[\"종목코드\"].astype(str).apply(lambda x: x.zfill(6))\n",
    "df_ksp[\"종목코드\"].to_list()\n",
    "\n",
    "tmp = df_ksp[\"종목코드\"].to_list()\n",
    "for stock_code in tmp:\n",
    "    df_cc.loc[df_cc['corp_code'] == stockCode_to_corpCode(df_cc, stock_code), 'jurir_no'] = corpCode_to_jurirNo(stockCode_to_corpCode(df_cc, stock_code))\n",
    "    \n",
    "    \n",
    "    \n",
    "\n",
    "\n",
    "df_cc[\"jurir_no\"] = df_cc[\"jurir_no\"].astype(str).apply(lambda x: x.zfill(13))\n",
    "spac = df_cc[df_cc['jurir_no'].str.contains('0000000000000')].index\n",
    "df_cc.drop(spac, inplace=True)\n",
    "df_cc"
   ]
  },
  {
   "cell_type": "code",
   "execution_count": 25,
   "metadata": {},
   "outputs": [
    {
     "ename": "KeyError",
     "evalue": "'jurir_no'",
     "output_type": "error",
     "traceback": [
      "\u001b[1;31m---------------------------------------------------------------------------\u001b[0m",
      "\u001b[1;31mKeyError\u001b[0m                                  Traceback (most recent call last)",
      "\u001b[1;32m~\\AppData\\Local\\Temp\\ipykernel_28604\\43338010.py\u001b[0m in \u001b[0;36m<module>\u001b[1;34m\u001b[0m\n\u001b[0;32m      7\u001b[0m \u001b[0mtemp\u001b[0m \u001b[1;33m=\u001b[0m \u001b[0mpd\u001b[0m\u001b[1;33m.\u001b[0m\u001b[0munique\u001b[0m\u001b[1;33m(\u001b[0m\u001b[0mdf_ksp\u001b[0m\u001b[1;33m[\u001b[0m\u001b[1;34m\"종목코드\"\u001b[0m\u001b[1;33m]\u001b[0m\u001b[1;33m)\u001b[0m\u001b[1;33m.\u001b[0m\u001b[0mtolist\u001b[0m\u001b[1;33m(\u001b[0m\u001b[1;33m)\u001b[0m\u001b[1;33m\u001b[0m\u001b[1;33m\u001b[0m\u001b[0m\n\u001b[0;32m      8\u001b[0m \u001b[1;32mfor\u001b[0m \u001b[0mstock_code\u001b[0m \u001b[1;32min\u001b[0m \u001b[0mtemp\u001b[0m\u001b[1;33m:\u001b[0m\u001b[1;33m\u001b[0m\u001b[1;33m\u001b[0m\u001b[0m\n\u001b[1;32m----> 9\u001b[1;33m     \u001b[0mdf_cc\u001b[0m\u001b[1;33m.\u001b[0m\u001b[0mloc\u001b[0m\u001b[1;33m[\u001b[0m\u001b[0mdf_cc\u001b[0m\u001b[1;33m[\u001b[0m\u001b[1;34m\"corp_code\"\u001b[0m\u001b[1;33m]\u001b[0m \u001b[1;33m==\u001b[0m \u001b[0mstockCode_to_corpCode\u001b[0m\u001b[1;33m(\u001b[0m\u001b[0mdf_cc\u001b[0m\u001b[1;33m,\u001b[0m \u001b[0mstock_code\u001b[0m\u001b[1;33m)\u001b[0m\u001b[1;33m,\u001b[0m \u001b[1;34m\"jurir_no\"\u001b[0m\u001b[1;33m]\u001b[0m \u001b[1;33m=\u001b[0m \u001b[0mcorpCode_to_jurirNo\u001b[0m\u001b[1;33m(\u001b[0m\u001b[0mstockCode_to_corpCode\u001b[0m\u001b[1;33m(\u001b[0m\u001b[0mdf_cc\u001b[0m\u001b[1;33m,\u001b[0m \u001b[0mstock_code\u001b[0m\u001b[1;33m)\u001b[0m\u001b[1;33m)\u001b[0m\u001b[1;33m\u001b[0m\u001b[1;33m\u001b[0m\u001b[0m\n\u001b[0m",
      "\u001b[1;32m~\\AppData\\Local\\Temp\\ipykernel_28604\\1672260380.py\u001b[0m in \u001b[0;36mcorpCode_to_jurirNo\u001b[1;34m(corp_code, auth_key, url)\u001b[0m\n\u001b[0;32m     14\u001b[0m     \u001b[0mresponse\u001b[0m \u001b[1;33m=\u001b[0m \u001b[0mrequests\u001b[0m\u001b[1;33m.\u001b[0m\u001b[0mget\u001b[0m\u001b[1;33m(\u001b[0m\u001b[0murl\u001b[0m\u001b[1;33m,\u001b[0m \u001b[0mparams\u001b[0m\u001b[1;33m=\u001b[0m\u001b[0mparams\u001b[0m\u001b[1;33m)\u001b[0m\u001b[1;33m\u001b[0m\u001b[1;33m\u001b[0m\u001b[0m\n\u001b[0;32m     15\u001b[0m     \u001b[1;32mif\u001b[0m \u001b[0mresponse\u001b[0m\u001b[1;33m.\u001b[0m\u001b[0mstatus_code\u001b[0m \u001b[1;33m==\u001b[0m \u001b[1;36m200\u001b[0m\u001b[1;33m:\u001b[0m\u001b[1;33m\u001b[0m\u001b[1;33m\u001b[0m\u001b[0m\n\u001b[1;32m---> 16\u001b[1;33m         \u001b[1;32mreturn\u001b[0m \u001b[0mresponse\u001b[0m\u001b[1;33m.\u001b[0m\u001b[0mjson\u001b[0m\u001b[1;33m(\u001b[0m\u001b[1;33m)\u001b[0m\u001b[1;33m[\u001b[0m\u001b[1;34m\"jurir_no\"\u001b[0m\u001b[1;33m]\u001b[0m\u001b[1;33m\u001b[0m\u001b[1;33m\u001b[0m\u001b[0m\n\u001b[0m\u001b[0;32m     17\u001b[0m         df.loc[\n\u001b[0;32m     18\u001b[0m             \u001b[0mdf\u001b[0m\u001b[1;33m[\u001b[0m\u001b[1;34m\"corp_code\"\u001b[0m\u001b[1;33m]\u001b[0m \u001b[1;33m==\u001b[0m \u001b[0mstockCode_to_corpCode\u001b[0m\u001b[1;33m(\u001b[0m\u001b[0mdf\u001b[0m\u001b[1;33m,\u001b[0m \u001b[0mstock_code\u001b[0m\u001b[1;33m)\u001b[0m\u001b[1;33m,\u001b[0m \u001b[1;34m\"jurir_no\"\u001b[0m\u001b[1;33m\u001b[0m\u001b[1;33m\u001b[0m\u001b[0m\n",
      "\u001b[1;31mKeyError\u001b[0m: 'jurir_no'"
     ]
    }
   ],
   "source": [
    "# KOSPI200 종목코드 리스트 가져오기\n",
    "df_ksp = pd.read_csv(r\"data\\KOSPI200.csv\")\n",
    "df_ksp[\"종목코드\"] = df_ksp[\"종목코드\"].astype(str).apply(lambda x: x.zfill(6))\n",
    "\n",
    "\n",
    "# 가져온 리스트로 법인등록번호 가져오기\n",
    "temp = pd.unique(df_ksp[\"종목코드\"]).tolist()\n",
    "for stock_code in temp:\n",
    "    df_cc.loc[df_cc[\"corp_code\"] == stockCode_to_corpCode(df_cc, stock_code), \"jurir_no\"] = corpCode_to_jurirNo(stockCode_to_corpCode(df_cc, stock_code))"
   ]
  }
 ],
 "metadata": {
  "kernelspec": {
   "display_name": "Python 3.9.13 ('AIS7')",
   "language": "python",
   "name": "python3"
  },
  "language_info": {
   "codemirror_mode": {
    "name": "ipython",
    "version": 3
   },
   "file_extension": ".py",
   "mimetype": "text/x-python",
   "name": "python",
   "nbconvert_exporter": "python",
   "pygments_lexer": "ipython3",
   "version": "3.9.13"
  },
  "orig_nbformat": 4,
  "vscode": {
   "interpreter": {
    "hash": "6fe11dfc63e789712f819f0eab04a3070dc82d637138faaf6adf8e594ab8007f"
   }
  }
 },
 "nbformat": 4,
 "nbformat_minor": 2
}
