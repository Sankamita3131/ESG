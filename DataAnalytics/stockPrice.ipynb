{
 "cells": [
  {
   "attachments": {},
   "cell_type": "markdown",
   "metadata": {},
   "source": [
    "- 아래의 파일을 병합하여 분석\n",
    "    - ```KCGS_ESGRating.csv```\n",
    "    - ```KRX_KOSPI200_stock_year.csv```"
   ]
  },
  {
   "attachments": {},
   "cell_type": "markdown",
   "id": "28d87f0a",
   "metadata": {},
   "source": [
    "# import"
   ]
  },
  {
   "cell_type": "code",
   "execution_count": null,
   "id": "29e06233",
   "metadata": {},
   "outputs": [],
   "source": [
    "import os\n",
    "import sys\n",
    "import time\n",
    "import pickle\n",
    "import warnings\n",
    "import urllib.request\n",
    "from glob import glob\n",
    "\n",
    "import numpy as np\n",
    "import pandas as pd\n",
    "import matplotlib.pyplot as plt\n",
    "import koreanize_matplotlib\n",
    "\n",
    "import requests\n",
    "from bs4 import BeautifulSoup as bs\n",
    "\n",
    "import FinanceDataReader as fdr\n",
    "from tqdm import tqdm\n",
    "\n",
    "sys.path.append(\"../import\")\n",
    "from module import six_digit\n",
    "\n",
    "warnings.filterwarnings('ignore')\n",
    "pd.options.display.float_format = '{:.4f}'.format\n",
    "plt.style.use(\"ggplot\")\n",
    "%config InlineBackend.figure_format = 'retina'\n",
    "\n",
    "data_path = \"../data/\""
   ]
  }
 ],
 "metadata": {
  "kernelspec": {
   "display_name": "asd",
   "language": "python",
   "name": "python3"
  },
  "language_info": {
   "name": "python",
   "version": "3.9.15 | packaged by conda-forge | (main, Nov 22 2022, 08:39:05) [MSC v.1929 64 bit (AMD64)]"
  },
  "orig_nbformat": 4,
  "vscode": {
   "interpreter": {
    "hash": "1484e195d7bc9430bc3da72ea3c1b8c4a4682e4fe56bdbad8b3e1217f2a75f76"
   }
  }
 },
 "nbformat": 4,
 "nbformat_minor": 2
}
